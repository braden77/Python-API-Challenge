{
 "cells": [
  {
   "cell_type": "markdown",
   "metadata": {},
   "source": [
    "# WeatherPy\n",
    "----\n",
    "\n",
    "#### Note\n",
    "* Instructions have been included for each segment. You do not have to follow them exactly, but they are included to help you think through the steps."
   ]
  },
  {
   "cell_type": "code",
   "execution_count": 1,
   "metadata": {
    "scrolled": true
   },
   "outputs": [],
   "source": [
    "# Dependencies and Setup\n",
    "import matplotlib.pyplot as plt\n",
    "import pandas as pd\n",
    "import numpy as np\n",
    "import requests\n",
    "import time\n",
    "from scipy.stats import linregress\n",
    "\n",
    "# Import API key\n",
    "from api_keys import weather_api_key\n",
    "\n",
    "# Incorporated citipy to determine city based on latitude and longitude\n",
    "from citipy import citipy\n",
    "\n",
    "# Output File (CSV)\n",
    "output_data_file = \"output_data/cities.csv\"\n",
    "\n",
    "# Range of latitudes and longitudes\n",
    "lat_range = (-90, 90)\n",
    "lng_range = (-180, 180)"
   ]
  },
  {
   "cell_type": "markdown",
   "metadata": {},
   "source": [
    "## Generate Cities List"
   ]
  },
  {
   "cell_type": "code",
   "execution_count": 2,
   "metadata": {},
   "outputs": [
    {
     "data": {
      "text/plain": [
       "592"
      ]
     },
     "execution_count": 2,
     "metadata": {},
     "output_type": "execute_result"
    }
   ],
   "source": [
    "# List for holding lat_lngs and cities\n",
    "lat_lngs = []\n",
    "cities = []\n",
    "\n",
    "# Create a set of random lat and lng combinations\n",
    "lats = np.random.uniform(lat_range[0], lat_range[1], size=1500)\n",
    "lngs = np.random.uniform(lng_range[0], lng_range[1], size=1500)\n",
    "lat_lngs = zip(lats, lngs)\n",
    "\n",
    "# Identify nearest city for each lat, lng combination\n",
    "for lat_lng in lat_lngs:\n",
    "    city = citipy.nearest_city(lat_lng[0], lat_lng[1]).city_name\n",
    "    \n",
    "    # If the city is unique, then add it to a our cities list\n",
    "    if city not in cities:\n",
    "        cities.append(city)\n",
    "\n",
    "# Print the city count to confirm sufficient count\n",
    "len(cities)"
   ]
  },
  {
   "cell_type": "markdown",
   "metadata": {},
   "source": [
    "### Perform API Calls\n",
    "* Perform a weather check on each city using a series of successive API calls.\n",
    "* Include a print log of each city as it'sbeing processed (with the city number and city name).\n"
   ]
  },
  {
   "cell_type": "code",
   "execution_count": 3,
   "metadata": {},
   "outputs": [
    {
     "name": "stdout",
     "output_type": "stream",
     "text": [
      "Beginning Data Retrieval\n",
      "-----------------------------\n",
      "Processing Record 0 | thompson\n",
      "Processing Record 1 | manaure\n",
      "Processing Record 2 | new norfolk\n",
      "Processing Record 3 | mar del plata\n",
      "Processing Record 4 | kampot\n",
      "Processing Record 5 | georgetown\n",
      "City not found. Skipping...\n",
      "Processing Record 6 | kapaa\n",
      "Processing Record 7 | worthing\n",
      "Processing Record 8 | dikson\n",
      "Processing Record 9 | hilo\n",
      "City not found. Skipping...\n",
      "Processing Record 10 | nizhniy odes\n",
      "Processing Record 11 | punta arenas\n",
      "Processing Record 12 | ushuaia\n",
      "Processing Record 13 | adrar\n",
      "Processing Record 14 | norman wells\n",
      "Processing Record 15 | tena\n",
      "Processing Record 16 | bud\n",
      "Processing Record 17 | east london\n",
      "Processing Record 18 | shizunai\n",
      "Processing Record 19 | yambio\n",
      "Processing Record 20 | busselton\n",
      "City not found. Skipping...\n",
      "Processing Record 21 | isangel\n",
      "Processing Record 22 | ratnagiri\n",
      "Processing Record 23 | bonavista\n",
      "Processing Record 24 | davila\n",
      "Processing Record 25 | kahului\n",
      "Processing Record 26 | oytal\n",
      "Processing Record 27 | luderitz\n",
      "Processing Record 28 | pangnirtung\n",
      "Processing Record 29 | barrow\n",
      "Processing Record 30 | cidreira\n",
      "Processing Record 31 | kodiak\n",
      "Processing Record 32 | patos de minas\n",
      "Processing Record 33 | schwerin\n",
      "Processing Record 34 | albany\n",
      "Processing Record 35 | maunabo\n",
      "Processing Record 36 | bengkulu\n",
      "Processing Record 37 | lompoc\n",
      "Processing Record 38 | urdoma\n",
      "Processing Record 39 | hobart\n",
      "Processing Record 40 | gazli\n",
      "Processing Record 41 | chuy\n",
      "Processing Record 42 | puerto ayora\n",
      "Processing Record 43 | hohhot\n",
      "City not found. Skipping...\n",
      "Processing Record 44 | bethel\n",
      "Processing Record 45 | monchegorsk\n",
      "Processing Record 46 | bredasdorp\n",
      "Processing Record 47 | hermanus\n",
      "Processing Record 48 | rikitea\n",
      "Processing Record 49 | upernavik\n",
      "Processing Record 50 | seoul\n",
      "Processing Record 51 | skjervoy\n",
      "Processing Record 52 | chokurdakh\n",
      "Processing Record 53 | mahebourg\n",
      "Processing Record 54 | tasiilaq\n",
      "City not found. Skipping...\n",
      "Processing Record 55 | pori\n",
      "Processing Record 56 | port alfred\n",
      "Processing Record 57 | castro\n",
      "Processing Record 58 | nikolskoye\n",
      "Processing Record 59 | hithadhoo\n",
      "Processing Record 60 | mananara\n",
      "Processing Record 61 | kruisfontein\n",
      "Processing Record 62 | yorosso\n",
      "Processing Record 63 | yellowknife\n",
      "Processing Record 64 | pisco\n",
      "Processing Record 65 | bluff\n",
      "City not found. Skipping...\n",
      "Processing Record 66 | souillac\n",
      "Processing Record 67 | clyde river\n",
      "Processing Record 68 | saskylakh\n",
      "Processing Record 69 | jumla\n",
      "Processing Record 70 | cairns\n",
      "Processing Record 71 | carnarvon\n",
      "Processing Record 72 | esil\n",
      "City not found. Skipping...\n",
      "Processing Record 73 | mahur\n",
      "Processing Record 74 | ahipara\n",
      "Processing Record 75 | lebu\n",
      "Processing Record 76 | jamestown\n",
      "Processing Record 77 | pevek\n",
      "City not found. Skipping...\n",
      "City not found. Skipping...\n",
      "Processing Record 78 | san patricio\n",
      "Processing Record 79 | saldanha\n",
      "Processing Record 80 | faanui\n",
      "Processing Record 81 | naze\n",
      "Processing Record 82 | richards bay\n",
      "Processing Record 83 | walvis bay\n",
      "Processing Record 84 | guerrero negro\n",
      "Processing Record 85 | monteagudo\n",
      "Processing Record 86 | qaanaaq\n",
      "Processing Record 87 | mutoko\n",
      "Processing Record 88 | vaini\n",
      "City not found. Skipping...\n",
      "Processing Record 89 | berlevag\n",
      "Processing Record 90 | bullhead city\n",
      "Processing Record 91 | buraydah\n",
      "Processing Record 92 | migori\n",
      "City not found. Skipping...\n",
      "Processing Record 93 | senno\n",
      "Processing Record 94 | dahuk\n",
      "Processing Record 95 | torbay\n",
      "Processing Record 96 | atuona\n",
      "Processing Record 97 | areosa\n",
      "Processing Record 98 | dakar\n",
      "Processing Record 99 | gazanjyk\n",
      "Processing Record 100 | ginda\n",
      "Processing Record 101 | khatanga\n",
      "Processing Record 102 | bilibino\n",
      "Processing Record 103 | santona\n",
      "Processing Record 104 | banepa\n",
      "Processing Record 105 | lamani\n",
      "Processing Record 106 | flinders\n",
      "Processing Record 107 | soderhamn\n",
      "Processing Record 108 | saint-philippe\n",
      "Processing Record 109 | cabedelo\n",
      "Processing Record 110 | beringovskiy\n",
      "City not found. Skipping...\n",
      "Processing Record 111 | port elizabeth\n",
      "Processing Record 112 | saint-pierre\n",
      "Processing Record 113 | petropavlovsk-kamchatskiy\n",
      "Processing Record 114 | saint george\n",
      "Processing Record 115 | strezhevoy\n",
      "Processing Record 116 | mustafakemalpasa\n",
      "Processing Record 117 | wajima\n",
      "Processing Record 118 | rivadavia\n",
      "Processing Record 119 | acarau\n",
      "Processing Record 120 | umkomaas\n",
      "Processing Record 121 | sitka\n",
      "Processing Record 122 | mizdah\n",
      "Processing Record 123 | tecoanapa\n",
      "Processing Record 124 | provideniya\n",
      "City not found. Skipping...\n",
      "Processing Record 125 | tuatapere\n",
      "Processing Record 126 | nanortalik\n",
      "Processing Record 127 | la romana\n",
      "City not found. Skipping...\n",
      "Processing Record 128 | starkville\n",
      "Processing Record 129 | benghazi\n",
      "Processing Record 130 | arraial do cabo\n",
      "Processing Record 131 | iralaya\n",
      "Processing Record 132 | pimentel\n",
      "Processing Record 133 | aklavik\n",
      "Processing Record 134 | samarai\n",
      "Processing Record 135 | geraldton\n",
      "Processing Record 136 | camacha\n",
      "Processing Record 137 | mataura\n",
      "Processing Record 138 | linkuva\n",
      "Processing Record 139 | butaritari\n",
      "Processing Record 140 | high point\n",
      "Processing Record 141 | airai\n",
      "Processing Record 142 | north platte\n",
      "Processing Record 143 | resplendor\n",
      "City not found. Skipping...\n",
      "Processing Record 144 | touros\n",
      "Processing Record 145 | sao felix do xingu\n",
      "Processing Record 146 | jalu\n",
      "Processing Record 147 | santa rosa\n",
      "Processing Record 148 | bama\n",
      "Processing Record 149 | miramar\n",
      "Processing Record 150 | sur\n",
      "Processing Record 151 | mogadishu\n",
      "City not found. Skipping...\n",
      "Processing Record 152 | sept-iles\n",
      "Processing Record 153 | tessalit\n",
      "City not found. Skipping...\n",
      "Processing Record 154 | arman\n",
      "City not found. Skipping...\n",
      "City not found. Skipping...\n",
      "Processing Record 155 | andenes\n",
      "Processing Record 156 | eureka\n",
      "Processing Record 157 | gravdal\n",
      "Processing Record 158 | karema\n",
      "Processing Record 159 | mubi\n",
      "Processing Record 160 | kamloops\n",
      "Processing Record 161 | laela\n",
      "Processing Record 162 | krasnyy chikoy\n",
      "Processing Record 163 | shush\n",
      "Processing Record 164 | the pas\n",
      "Processing Record 165 | port hardy\n",
      "Processing Record 166 | longyearbyen\n",
      "Processing Record 167 | ribeira grande\n",
      "Processing Record 168 | tuktoyaktuk\n",
      "Processing Record 169 | moerai\n",
      "Processing Record 170 | liberty\n",
      "Processing Record 171 | raymond\n",
      "Processing Record 172 | la ronge\n",
      "Processing Record 173 | kieta\n",
      "Processing Record 174 | cape town\n",
      "City not found. Skipping...\n",
      "Processing Record 175 | plouzane\n",
      "Processing Record 176 | pacific grove\n",
      "Processing Record 177 | buala\n",
      "Processing Record 178 | bandarbeyla\n",
      "Processing Record 179 | zunyi\n",
      "Processing Record 180 | hilton head island\n",
      "Processing Record 181 | leningradskiy\n",
      "Processing Record 182 | victoria\n",
      "City not found. Skipping...\n",
      "Processing Record 183 | iquique\n",
      "City not found. Skipping...\n",
      "Processing Record 184 | cherskiy\n",
      "Processing Record 185 | bambous virieux\n",
      "Processing Record 186 | gat\n",
      "Processing Record 187 | ucluelet\n",
      "Processing Record 188 | hasaki\n",
      "Processing Record 189 | cabo san lucas\n",
      "City not found. Skipping...\n",
      "Processing Record 190 | avarua\n",
      "Processing Record 191 | nishihara\n",
      "Processing Record 192 | jizan\n",
      "Processing Record 193 | maxixe\n",
      "Processing Record 194 | bubaque\n",
      "Processing Record 195 | portland\n",
      "Processing Record 196 | uruzgan\n",
      "Processing Record 197 | roald\n",
      "Processing Record 198 | masvingo\n",
      "Processing Record 199 | rocha\n",
      "Processing Record 200 | poli\n",
      "Processing Record 201 | port hedland\n",
      "Processing Record 202 | vestmannaeyjar\n",
      "Processing Record 203 | turka\n",
      "Processing Record 204 | havelock\n",
      "Processing Record 205 | fortuna\n",
      "Processing Record 206 | vila velha\n",
      "Processing Record 207 | seddon\n",
      "Processing Record 208 | manono\n",
      "Processing Record 209 | gunjur\n",
      "Processing Record 210 | kununurra\n",
      "Processing Record 211 | kropotkin\n",
      "Processing Record 212 | jijiga\n",
      "City not found. Skipping...\n",
      "Processing Record 213 | kasama\n",
      "Processing Record 214 | creston\n",
      "Processing Record 215 | kaitangata\n",
      "Processing Record 216 | rumuruti\n",
      "Processing Record 217 | martapura\n",
      "City not found. Skipping...\n",
      "Processing Record 218 | lumphat\n",
      "Processing Record 219 | klaksvik\n",
      "Processing Record 220 | san cristobal\n",
      "Processing Record 221 | port pirie\n",
      "Processing Record 222 | nyimba\n",
      "Processing Record 223 | drayton valley\n",
      "Processing Record 224 | hue\n",
      "Processing Record 225 | myanaung\n",
      "Processing Record 226 | atar\n",
      "Processing Record 227 | vagur\n",
      "City not found. Skipping...\n",
      "Processing Record 228 | sierra vista\n",
      "Processing Record 229 | kenai\n",
      "Processing Record 230 | hofn\n"
     ]
    },
    {
     "name": "stdout",
     "output_type": "stream",
     "text": [
      "Processing Record 231 | dingle\n",
      "Processing Record 232 | daru\n",
      "Processing Record 233 | ak-dovurak\n",
      "City not found. Skipping...\n",
      "Processing Record 234 | beloha\n",
      "Processing Record 235 | bogovarovo\n",
      "Processing Record 236 | sabha\n",
      "Processing Record 237 | zenzeli\n",
      "Processing Record 238 | kudahuvadhoo\n",
      "Processing Record 239 | hay river\n",
      "Processing Record 240 | port macquarie\n",
      "Processing Record 241 | vardo\n",
      "Processing Record 242 | kampong thum\n",
      "Processing Record 243 | novikovo\n",
      "Processing Record 244 | caravelas\n",
      "Processing Record 245 | namibe\n",
      "Processing Record 246 | fallon\n",
      "Processing Record 247 | hengshui\n",
      "Processing Record 248 | vao\n",
      "Processing Record 249 | lypova dolyna\n",
      "Processing Record 250 | nyagan\n",
      "Processing Record 251 | minot\n",
      "Processing Record 252 | severo-kurilsk\n",
      "Processing Record 253 | kultayevo\n",
      "Processing Record 254 | iquitos\n",
      "Processing Record 255 | borba\n",
      "Processing Record 256 | ponta do sol\n",
      "Processing Record 257 | paamiut\n",
      "Processing Record 258 | nelson bay\n",
      "Processing Record 259 | khorixas\n",
      "Processing Record 260 | okha\n",
      "Processing Record 261 | kelvington\n",
      "Processing Record 262 | uyuni\n",
      "Processing Record 263 | avera\n",
      "Processing Record 264 | igrim\n",
      "Processing Record 265 | nabire\n",
      "Processing Record 266 | cockburn town\n",
      "Processing Record 267 | coihaique\n",
      "Processing Record 268 | paris\n",
      "Processing Record 269 | kyra\n",
      "Processing Record 270 | kadyy\n",
      "Processing Record 271 | losal\n",
      "Processing Record 272 | guanica\n",
      "Processing Record 273 | goroka\n",
      "Processing Record 274 | zyryanka\n",
      "City not found. Skipping...\n",
      "Processing Record 275 | drochia\n",
      "Processing Record 276 | north bend\n",
      "Processing Record 277 | chara\n",
      "Processing Record 278 | chowchilla\n",
      "Processing Record 279 | semey\n",
      "Processing Record 280 | zhigansk\n",
      "Processing Record 281 | rajgarh\n",
      "Processing Record 282 | gisors\n",
      "Processing Record 283 | narsaq\n",
      "Processing Record 284 | kajaani\n",
      "Processing Record 285 | kavieng\n",
      "Processing Record 286 | synya\n",
      "Processing Record 287 | necochea\n",
      "Processing Record 288 | chancay\n",
      "Processing Record 289 | sesheke\n",
      "Processing Record 290 | desaguadero\n",
      "Processing Record 291 | mount isa\n",
      "Processing Record 292 | ambilobe\n",
      "Processing Record 293 | kyshtovka\n",
      "Processing Record 294 | puqi\n",
      "Processing Record 295 | altamira\n",
      "Processing Record 296 | sinnamary\n",
      "City not found. Skipping...\n",
      "Processing Record 297 | sabang\n",
      "City not found. Skipping...\n",
      "Processing Record 298 | shache\n",
      "Processing Record 299 | mattru\n",
      "Processing Record 300 | meulaboh\n",
      "Processing Record 301 | byron bay\n",
      "Processing Record 302 | broken hill\n",
      "Processing Record 303 | riyadh\n",
      "Processing Record 304 | san carlos\n",
      "Processing Record 305 | shediac\n",
      "Processing Record 306 | ilulissat\n",
      "Processing Record 307 | atyrau\n",
      "Processing Record 308 | kijang\n",
      "Processing Record 309 | sukumo\n",
      "Processing Record 310 | mojokerto\n",
      "Processing Record 311 | smoky lake\n",
      "Processing Record 312 | salalah\n",
      "Processing Record 313 | sola\n",
      "Processing Record 314 | tezu\n",
      "Processing Record 315 | bonanza\n",
      "Processing Record 316 | college\n",
      "Processing Record 317 | port augusta\n",
      "Processing Record 318 | coquimbo\n",
      "Processing Record 319 | dromolaxia\n",
      "Processing Record 320 | jambi\n",
      "Processing Record 321 | grindavik\n",
      "Processing Record 322 | tura\n",
      "Processing Record 323 | ornskoldsvik\n",
      "Processing Record 324 | high level\n",
      "Processing Record 325 | ziro\n",
      "Processing Record 326 | nizwa\n",
      "Processing Record 327 | itarema\n",
      "Processing Record 328 | kloulklubed\n",
      "Processing Record 329 | katsuura\n",
      "City not found. Skipping...\n",
      "Processing Record 330 | hovd\n",
      "City not found. Skipping...\n",
      "Processing Record 331 | gudari\n",
      "Processing Record 332 | komsomolskiy\n",
      "City not found. Skipping...\n",
      "Processing Record 333 | luanda\n",
      "Processing Record 334 | namatanai\n",
      "Processing Record 335 | sorland\n",
      "Processing Record 336 | huilong\n",
      "Processing Record 337 | pokosnoye\n",
      "Processing Record 338 | barkhan\n",
      "Processing Record 339 | srednekolymsk\n",
      "Processing Record 340 | scottsbluff\n",
      "Processing Record 341 | ikungi\n",
      "Processing Record 342 | saint-joseph\n",
      "Processing Record 343 | chapais\n",
      "Processing Record 344 | the valley\n",
      "Processing Record 345 | ergani\n",
      "Processing Record 346 | tocopilla\n",
      "Processing Record 347 | svetlyy\n",
      "Processing Record 348 | hamilton\n",
      "Processing Record 349 | grand gaube\n",
      "Processing Record 350 | opuwo\n",
      "Processing Record 351 | vikramasingapuram\n",
      "City not found. Skipping...\n",
      "Processing Record 352 | san juan\n",
      "Processing Record 353 | lavrentiya\n",
      "City not found. Skipping...\n",
      "Processing Record 354 | koshurnikovo\n",
      "Processing Record 355 | sydney\n",
      "Processing Record 356 | snezhnogorsk\n",
      "Processing Record 357 | iqaluit\n",
      "Processing Record 358 | york\n",
      "Processing Record 359 | quatre cocos\n",
      "Processing Record 360 | mackay\n",
      "Processing Record 361 | port blair\n",
      "Processing Record 362 | alenquer\n",
      "Processing Record 363 | tiksi\n",
      "Processing Record 364 | bathsheba\n",
      "Processing Record 365 | lucapa\n",
      "Processing Record 366 | saint anthony\n",
      "Processing Record 367 | mengcheng\n",
      "City not found. Skipping...\n",
      "Processing Record 368 | aksehir\n",
      "Processing Record 369 | andros town\n",
      "Processing Record 370 | willowmore\n",
      "Processing Record 371 | husavik\n",
      "Processing Record 372 | huarmey\n",
      "Processing Record 373 | surt\n",
      "Processing Record 374 | sycow\n",
      "City not found. Skipping...\n",
      "Processing Record 375 | durazno\n",
      "Processing Record 376 | rantepao\n",
      "Processing Record 377 | ambikapur\n",
      "Processing Record 378 | vung tau\n",
      "Processing Record 379 | kamenka\n",
      "Processing Record 380 | trincomalee\n",
      "Processing Record 381 | rio gallegos\n",
      "Processing Record 382 | mahanoro\n",
      "Processing Record 383 | staryy nadym\n",
      "Processing Record 384 | talnakh\n",
      "Processing Record 385 | yuzhnyy\n",
      "Processing Record 386 | inhambane\n",
      "Processing Record 387 | girne\n",
      "City not found. Skipping...\n",
      "City not found. Skipping...\n",
      "Processing Record 388 | sao filipe\n",
      "Processing Record 389 | zeya\n",
      "Processing Record 390 | pitimbu\n",
      "Processing Record 391 | viransehir\n",
      "Processing Record 392 | los llanos de aridane\n",
      "Processing Record 393 | spydeberg\n",
      "City not found. Skipping...\n",
      "Processing Record 394 | bundaberg\n",
      "Processing Record 395 | neiafu\n",
      "Processing Record 396 | marsa matruh\n",
      "Processing Record 397 | ancud\n",
      "Processing Record 398 | lagoa\n",
      "Processing Record 399 | asau\n",
      "Processing Record 400 | okhotsk\n",
      "Processing Record 401 | lebork\n",
      "Processing Record 402 | haines junction\n",
      "Processing Record 403 | marrakesh\n",
      "Processing Record 404 | tambacounda\n",
      "Processing Record 405 | taunggyi\n",
      "Processing Record 406 | skerries\n",
      "Processing Record 407 | barra do corda\n",
      "Processing Record 408 | kitimat\n",
      "Processing Record 409 | sao joao da barra\n",
      "Processing Record 410 | tanda\n",
      "Processing Record 411 | mezhdurechensk\n",
      "Processing Record 412 | alta floresta\n",
      "Processing Record 413 | saurimo\n",
      "Processing Record 414 | constitucion\n",
      "Processing Record 415 | fairbanks\n",
      "Processing Record 416 | ler\n",
      "Processing Record 417 | hualmay\n",
      "Processing Record 418 | magadan\n",
      "Processing Record 419 | santa cruz\n",
      "Processing Record 420 | savinka\n",
      "Processing Record 421 | dong hoi\n",
      "Processing Record 422 | olafsvik\n",
      "Processing Record 423 | ternate\n",
      "Processing Record 424 | tadine\n",
      "Processing Record 425 | bara\n",
      "Processing Record 426 | saginaw\n",
      "Processing Record 427 | puerto escondido\n",
      "Processing Record 428 | talcahuano\n",
      "Processing Record 429 | deputatskiy\n",
      "Processing Record 430 | temir\n",
      "Processing Record 431 | hami\n",
      "Processing Record 432 | beaune\n",
      "Processing Record 433 | ewa beach\n",
      "Processing Record 434 | katherine\n",
      "Processing Record 435 | polessk\n",
      "Processing Record 436 | kupang\n",
      "City not found. Skipping...\n",
      "Processing Record 437 | robertsport\n",
      "Processing Record 438 | amudat\n",
      "Processing Record 439 | heze\n",
      "Processing Record 440 | krasnotorka\n",
      "Processing Record 441 | campo maior\n",
      "Processing Record 442 | mochudi\n",
      "Processing Record 443 | juneau\n",
      "City not found. Skipping...\n",
      "City not found. Skipping...\n",
      "Processing Record 444 | verkhnyaya inta\n",
      "Processing Record 445 | vostok\n",
      "Processing Record 446 | mitsamiouli\n",
      "Processing Record 447 | ixtapa\n",
      "Processing Record 448 | xining\n",
      "Processing Record 449 | santa engracia\n",
      "Processing Record 450 | moranbah\n",
      "Processing Record 451 | gamba\n",
      "Processing Record 452 | tandil\n",
      "City not found. Skipping...\n",
      "Processing Record 453 | mehran\n",
      "Processing Record 454 | valera\n",
      "Processing Record 455 | gra liyia\n",
      "Processing Record 456 | wuzhou\n",
      "Processing Record 457 | podor\n",
      "Processing Record 458 | pulaski\n",
      "Processing Record 459 | sobolevo\n",
      "Processing Record 460 | atakpame\n",
      "Processing Record 461 | brazzaville\n",
      "Processing Record 462 | ambon\n",
      "Processing Record 463 | padang\n",
      "Processing Record 464 | yura\n",
      "Processing Record 465 | sosua\n",
      "Processing Record 466 | nome\n"
     ]
    },
    {
     "name": "stdout",
     "output_type": "stream",
     "text": [
      "City not found. Skipping...\n",
      "Processing Record 467 | horodyshche\n",
      "City not found. Skipping...\n",
      "Processing Record 468 | petrolina\n",
      "Processing Record 469 | lumut\n",
      "Processing Record 470 | ayan\n",
      "Processing Record 471 | pilot butte\n",
      "Processing Record 472 | gladstone\n",
      "Processing Record 473 | chiredzi\n",
      "Processing Record 474 | koumac\n",
      "Processing Record 475 | xilagani\n",
      "Processing Record 476 | vuktyl\n",
      "Processing Record 477 | belyy yar\n",
      "Processing Record 478 | jiwani\n",
      "Processing Record 479 | novoagansk\n",
      "Processing Record 480 | omsukchan\n",
      "Processing Record 481 | biltine\n",
      "Processing Record 482 | shirgaon\n",
      "Processing Record 483 | nchelenge\n",
      "Processing Record 484 | guanare\n",
      "Processing Record 485 | nam som\n",
      "Processing Record 486 | gondanglegi\n",
      "Processing Record 487 | houston\n",
      "Processing Record 488 | korla\n",
      "Processing Record 489 | rio grande\n",
      "City not found. Skipping...\n",
      "Processing Record 490 | pedro ii\n",
      "Processing Record 491 | havre-saint-pierre\n",
      "Processing Record 492 | jawa\n",
      "Processing Record 493 | kusa\n",
      "Processing Record 494 | palivere\n",
      "Processing Record 495 | baruun-urt\n",
      "Processing Record 496 | kambove\n",
      "Processing Record 497 | yar-sale\n",
      "Processing Record 498 | palhi\n",
      "Processing Record 499 | locri\n",
      "Processing Record 500 | beruwala\n",
      "Processing Record 501 | ailigandi\n",
      "Processing Record 502 | alofi\n",
      "Processing Record 503 | codrington\n",
      "Processing Record 504 | kaeo\n",
      "Processing Record 505 | maragogi\n",
      "Processing Record 506 | faya\n",
      "Processing Record 507 | sechura\n",
      "Processing Record 508 | mareeba\n",
      "Processing Record 509 | garowe\n",
      "Processing Record 510 | fostoria\n",
      "Processing Record 511 | grenada\n",
      "Processing Record 512 | corn island\n",
      "Processing Record 513 | agadez\n",
      "Processing Record 514 | karratha\n",
      "Processing Record 515 | monrovia\n",
      "Processing Record 516 | palmer\n",
      "Processing Record 517 | lata\n",
      "Processing Record 518 | merke\n",
      "Processing Record 519 | bac lieu\n",
      "Processing Record 520 | moyale\n",
      "Processing Record 521 | panzhihua\n",
      "Processing Record 522 | ati\n",
      "Processing Record 523 | tevriz\n",
      "Processing Record 524 | akdagmadeni\n",
      "Processing Record 525 | orange cove\n",
      "City not found. Skipping...\n",
      "Processing Record 526 | buchanan\n",
      "Processing Record 527 | laurel\n",
      "Processing Record 528 | pedasi\n",
      "Processing Record 529 | banjar\n",
      "Processing Record 530 | taft\n",
      "Processing Record 531 | esperance\n",
      "Processing Record 532 | imbituba\n",
      "Processing Record 533 | tottori\n",
      "Processing Record 534 | margate\n",
      "Processing Record 535 | davidson\n",
      "Processing Record 536 | serenje\n",
      "Processing Record 537 | ovalle\n",
      "Processing Record 538 | alyangula\n",
      "Processing Record 539 | thames\n",
      "Processing Record 540 | burgos\n",
      "Processing Record 541 | qaqortoq\n",
      "Processing Record 542 | moanda\n",
      "Processing Record 543 | mehamn\n"
     ]
    }
   ],
   "source": [
    "url = \"http://api.openweathermap.org/data/2.5/weather?\"\n",
    "query_url = f\"{url}appid={weather_api_key}&units=imperial&q=\"\n",
    "max_temp=[]\n",
    "humidity = []\n",
    "cloudiness =[]\n",
    "wind_speed = []\n",
    "country = []\n",
    "date = []\n",
    "city_update = []\n",
    "lat_update = []\n",
    "lng_update = []\n",
    "i=0\n",
    "\n",
    "print(\"Beginning Data Retrieval\")\n",
    "print(\"-----------------------------\")\n",
    "for city in cities:\n",
    "    \n",
    "    response = requests.get(query_url + city).json()\n",
    "    \n",
    "    try:\n",
    "        \n",
    "        max_temp.append(response['main']['temp_max'])\n",
    "        humidity.append(response['main']['humidity'])\n",
    "        cloudiness.append(response['clouds']['all'])\n",
    "        wind_speed.append(response['wind']['speed'])\n",
    "        country.append(response['sys']['country'])\n",
    "        date.append(response['dt'])\n",
    "        city_update.append(city)\n",
    "        lat_update.append(response['coord']['lat'])\n",
    "        lng_update.append(response['coord']['lon'])\n",
    "        print(f\"Processing Record {i} | {city}\")\n",
    "        i=i+1\n",
    "    \n",
    "    except:\n",
    "        print(\"City not found. Skipping...\")\n",
    "        pass\n",
    "    "
   ]
  },
  {
   "cell_type": "markdown",
   "metadata": {},
   "source": [
    "### Convert Raw Data to DataFrame\n",
    "* Export the city data into a .csv.\n",
    "* Display the DataFrame"
   ]
  },
  {
   "cell_type": "code",
   "execution_count": 4,
   "metadata": {},
   "outputs": [
    {
     "data": {
      "text/plain": [
       "City          544\n",
       "Lat           544\n",
       "Lng           544\n",
       "Max Temp      544\n",
       "Humidity      544\n",
       "Cloudiness    544\n",
       "Wind Speed    544\n",
       "Country       544\n",
       "Date          544\n",
       "dtype: int64"
      ]
     },
     "execution_count": 4,
     "metadata": {},
     "output_type": "execute_result"
    }
   ],
   "source": [
    "city_data = pd.DataFrame({\"City\":city_update,\n",
    "                         \"Lat\":lat_update,\n",
    "                         \"Lng\":lng_update, \n",
    "                         \"Max Temp\": max_temp,\n",
    "                         \"Humidity\": humidity,\n",
    "                         \"Cloudiness\":cloudiness, \n",
    "                         \"Wind Speed\":wind_speed,\n",
    "                         \"Country\": country,\n",
    "                         \"Date\":date})\n",
    "city_data.count()"
   ]
  },
  {
   "cell_type": "code",
   "execution_count": 5,
   "metadata": {},
   "outputs": [
    {
     "data": {
      "text/html": [
       "<div>\n",
       "<style scoped>\n",
       "    .dataframe tbody tr th:only-of-type {\n",
       "        vertical-align: middle;\n",
       "    }\n",
       "\n",
       "    .dataframe tbody tr th {\n",
       "        vertical-align: top;\n",
       "    }\n",
       "\n",
       "    .dataframe thead th {\n",
       "        text-align: right;\n",
       "    }\n",
       "</style>\n",
       "<table border=\"1\" class=\"dataframe\">\n",
       "  <thead>\n",
       "    <tr style=\"text-align: right;\">\n",
       "      <th></th>\n",
       "      <th>City</th>\n",
       "      <th>Lat</th>\n",
       "      <th>Lng</th>\n",
       "      <th>Max Temp</th>\n",
       "      <th>Humidity</th>\n",
       "      <th>Cloudiness</th>\n",
       "      <th>Wind Speed</th>\n",
       "      <th>Country</th>\n",
       "      <th>Date</th>\n",
       "    </tr>\n",
       "  </thead>\n",
       "  <tbody>\n",
       "    <tr>\n",
       "      <th>0</th>\n",
       "      <td>thompson</td>\n",
       "      <td>55.74</td>\n",
       "      <td>-97.86</td>\n",
       "      <td>71.6</td>\n",
       "      <td>46</td>\n",
       "      <td>75</td>\n",
       "      <td>4.70</td>\n",
       "      <td>CA</td>\n",
       "      <td>1592855670</td>\n",
       "    </tr>\n",
       "    <tr>\n",
       "      <th>1</th>\n",
       "      <td>manaure</td>\n",
       "      <td>11.78</td>\n",
       "      <td>-72.44</td>\n",
       "      <td>93.2</td>\n",
       "      <td>49</td>\n",
       "      <td>90</td>\n",
       "      <td>13.87</td>\n",
       "      <td>CO</td>\n",
       "      <td>1592855670</td>\n",
       "    </tr>\n",
       "    <tr>\n",
       "      <th>2</th>\n",
       "      <td>new norfolk</td>\n",
       "      <td>-42.78</td>\n",
       "      <td>147.06</td>\n",
       "      <td>55.0</td>\n",
       "      <td>92</td>\n",
       "      <td>100</td>\n",
       "      <td>3.00</td>\n",
       "      <td>AU</td>\n",
       "      <td>1592855671</td>\n",
       "    </tr>\n",
       "    <tr>\n",
       "      <th>3</th>\n",
       "      <td>mar del plata</td>\n",
       "      <td>-38.00</td>\n",
       "      <td>-57.56</td>\n",
       "      <td>54.0</td>\n",
       "      <td>87</td>\n",
       "      <td>100</td>\n",
       "      <td>6.93</td>\n",
       "      <td>AR</td>\n",
       "      <td>1592855520</td>\n",
       "    </tr>\n",
       "    <tr>\n",
       "      <th>4</th>\n",
       "      <td>kampot</td>\n",
       "      <td>10.62</td>\n",
       "      <td>104.18</td>\n",
       "      <td>78.8</td>\n",
       "      <td>94</td>\n",
       "      <td>40</td>\n",
       "      <td>1.12</td>\n",
       "      <td>KH</td>\n",
       "      <td>1592855671</td>\n",
       "    </tr>\n",
       "  </tbody>\n",
       "</table>\n",
       "</div>"
      ],
      "text/plain": [
       "            City    Lat     Lng  Max Temp  Humidity  Cloudiness  Wind Speed  \\\n",
       "0       thompson  55.74  -97.86      71.6        46          75        4.70   \n",
       "1        manaure  11.78  -72.44      93.2        49          90       13.87   \n",
       "2    new norfolk -42.78  147.06      55.0        92         100        3.00   \n",
       "3  mar del plata -38.00  -57.56      54.0        87         100        6.93   \n",
       "4         kampot  10.62  104.18      78.8        94          40        1.12   \n",
       "\n",
       "  Country        Date  \n",
       "0      CA  1592855670  \n",
       "1      CO  1592855670  \n",
       "2      AU  1592855671  \n",
       "3      AR  1592855520  \n",
       "4      KH  1592855671  "
      ]
     },
     "execution_count": 5,
     "metadata": {},
     "output_type": "execute_result"
    }
   ],
   "source": [
    "city_data.head()"
   ]
  },
  {
   "cell_type": "markdown",
   "metadata": {},
   "source": [
    "## Inspect the data and remove the cities where the humidity > 100%.\n",
    "----\n",
    "Skip this step if there are no cities that have humidity > 100%. "
   ]
  },
  {
   "cell_type": "code",
   "execution_count": 6,
   "metadata": {},
   "outputs": [
    {
     "data": {
      "text/html": [
       "<div>\n",
       "<style scoped>\n",
       "    .dataframe tbody tr th:only-of-type {\n",
       "        vertical-align: middle;\n",
       "    }\n",
       "\n",
       "    .dataframe tbody tr th {\n",
       "        vertical-align: top;\n",
       "    }\n",
       "\n",
       "    .dataframe thead th {\n",
       "        text-align: right;\n",
       "    }\n",
       "</style>\n",
       "<table border=\"1\" class=\"dataframe\">\n",
       "  <thead>\n",
       "    <tr style=\"text-align: right;\">\n",
       "      <th></th>\n",
       "      <th>Lat</th>\n",
       "      <th>Lng</th>\n",
       "      <th>Max Temp</th>\n",
       "      <th>Humidity</th>\n",
       "      <th>Cloudiness</th>\n",
       "      <th>Wind Speed</th>\n",
       "      <th>Date</th>\n",
       "    </tr>\n",
       "  </thead>\n",
       "  <tbody>\n",
       "    <tr>\n",
       "      <th>count</th>\n",
       "      <td>544.000000</td>\n",
       "      <td>544.000000</td>\n",
       "      <td>544.000000</td>\n",
       "      <td>544.000000</td>\n",
       "      <td>544.000000</td>\n",
       "      <td>544.000000</td>\n",
       "      <td>5.440000e+02</td>\n",
       "    </tr>\n",
       "    <tr>\n",
       "      <th>mean</th>\n",
       "      <td>19.799099</td>\n",
       "      <td>17.736029</td>\n",
       "      <td>68.479688</td>\n",
       "      <td>68.652574</td>\n",
       "      <td>43.718750</td>\n",
       "      <td>7.765937</td>\n",
       "      <td>1.592856e+09</td>\n",
       "    </tr>\n",
       "    <tr>\n",
       "      <th>std</th>\n",
       "      <td>33.330882</td>\n",
       "      <td>88.916134</td>\n",
       "      <td>14.677870</td>\n",
       "      <td>21.852567</td>\n",
       "      <td>38.492112</td>\n",
       "      <td>4.990169</td>\n",
       "      <td>6.162218e+01</td>\n",
       "    </tr>\n",
       "    <tr>\n",
       "      <th>min</th>\n",
       "      <td>-54.800000</td>\n",
       "      <td>-175.200000</td>\n",
       "      <td>31.320000</td>\n",
       "      <td>3.000000</td>\n",
       "      <td>0.000000</td>\n",
       "      <td>0.270000</td>\n",
       "      <td>1.592855e+09</td>\n",
       "    </tr>\n",
       "    <tr>\n",
       "      <th>25%</th>\n",
       "      <td>-8.862500</td>\n",
       "      <td>-63.277500</td>\n",
       "      <td>56.995000</td>\n",
       "      <td>55.000000</td>\n",
       "      <td>1.000000</td>\n",
       "      <td>4.000000</td>\n",
       "      <td>1.592856e+09</td>\n",
       "    </tr>\n",
       "    <tr>\n",
       "      <th>50%</th>\n",
       "      <td>22.910000</td>\n",
       "      <td>25.915000</td>\n",
       "      <td>69.800000</td>\n",
       "      <td>74.000000</td>\n",
       "      <td>40.000000</td>\n",
       "      <td>6.930000</td>\n",
       "      <td>1.592856e+09</td>\n",
       "    </tr>\n",
       "    <tr>\n",
       "      <th>75%</th>\n",
       "      <td>49.142500</td>\n",
       "      <td>91.452500</td>\n",
       "      <td>79.620000</td>\n",
       "      <td>86.000000</td>\n",
       "      <td>75.000000</td>\n",
       "      <td>10.290000</td>\n",
       "      <td>1.592856e+09</td>\n",
       "    </tr>\n",
       "    <tr>\n",
       "      <th>max</th>\n",
       "      <td>78.220000</td>\n",
       "      <td>179.320000</td>\n",
       "      <td>109.000000</td>\n",
       "      <td>100.000000</td>\n",
       "      <td>100.000000</td>\n",
       "      <td>31.380000</td>\n",
       "      <td>1.592856e+09</td>\n",
       "    </tr>\n",
       "  </tbody>\n",
       "</table>\n",
       "</div>"
      ],
      "text/plain": [
       "              Lat         Lng    Max Temp    Humidity  Cloudiness  Wind Speed  \\\n",
       "count  544.000000  544.000000  544.000000  544.000000  544.000000  544.000000   \n",
       "mean    19.799099   17.736029   68.479688   68.652574   43.718750    7.765937   \n",
       "std     33.330882   88.916134   14.677870   21.852567   38.492112    4.990169   \n",
       "min    -54.800000 -175.200000   31.320000    3.000000    0.000000    0.270000   \n",
       "25%     -8.862500  -63.277500   56.995000   55.000000    1.000000    4.000000   \n",
       "50%     22.910000   25.915000   69.800000   74.000000   40.000000    6.930000   \n",
       "75%     49.142500   91.452500   79.620000   86.000000   75.000000   10.290000   \n",
       "max     78.220000  179.320000  109.000000  100.000000  100.000000   31.380000   \n",
       "\n",
       "               Date  \n",
       "count  5.440000e+02  \n",
       "mean   1.592856e+09  \n",
       "std    6.162218e+01  \n",
       "min    1.592855e+09  \n",
       "25%    1.592856e+09  \n",
       "50%    1.592856e+09  \n",
       "75%    1.592856e+09  \n",
       "max    1.592856e+09  "
      ]
     },
     "execution_count": 6,
     "metadata": {},
     "output_type": "execute_result"
    }
   ],
   "source": [
    "city_data.describe()"
   ]
  },
  {
   "cell_type": "code",
   "execution_count": 7,
   "metadata": {},
   "outputs": [],
   "source": [
    "# Export the City_Data into a csv\n",
    "city_data.to_csv(\"output_data/cities.csv\")"
   ]
  },
  {
   "cell_type": "markdown",
   "metadata": {},
   "source": [
    "## Plotting the Data\n",
    "* Use proper labeling of the plots using plot titles (including date of analysis) and axes labels.\n",
    "* Save the plotted figures as .pngs."
   ]
  },
  {
   "cell_type": "markdown",
   "metadata": {},
   "source": [
    "## Latitude vs. Temperature Plot"
   ]
  },
  {
   "cell_type": "code",
   "execution_count": 8,
   "metadata": {
    "scrolled": true
   },
   "outputs": [
    {
     "data": {
      "image/png": "[encoded data removed]",
      "text/plain": [
       "<Figure size 432x288 with 1 Axes>"
      ]
     },
     "metadata": {
      "needs_background": "light"
     },
     "output_type": "display_data"
    }
   ],
   "source": [
    "plt.scatter(city_data[\"Lat\"],city_data[\"Max Temp\"],facecolors=\"green\", edgecolors=\"black\")\n",
    "plt.xlabel('Latitude')\n",
    "plt.ylabel('Max Temperature (F)')\n",
    "plt.title('City Latitude vs. Max Temperature (06/21/2020)')\n",
    "plt.grid()\n",
    "plt.savefig(\"output_data/Latitude_Temperature.png\")\n",
    "plt.show()\n"
   ]
  },
  {
   "cell_type": "markdown",
   "metadata": {},
   "source": [
    "1. Cities near the equator (with latitude around zero) have higher max temperature than cities distributed in the northern and southern hemisphere."
   ]
  },
  {
   "cell_type": "markdown",
   "metadata": {},
   "source": [
    "## Latitude vs. Humidity Plot"
   ]
  },
  {
   "cell_type": "code",
   "execution_count": 9,
   "metadata": {},
   "outputs": [
    {
     "data": {
      "image/png": "[encoded data removed]",
      "text/plain": [
       "<Figure size 432x288 with 1 Axes>"
      ]
     },
     "metadata": {
      "needs_background": "light"
     },
     "output_type": "display_data"
    }
   ],
   "source": [
    "plt.scatter(city_data[\"Lat\"],city_data[\"Humidity\"],facecolors=\"green\", edgecolors=\"black\")\n",
    "plt.xlabel('Latitude')\n",
    "plt.ylabel('Huminity (%)')\n",
    "plt.title('City Latitude vs. Max Humidity(06/21/2020)')\n",
    "plt.grid()\n",
    "plt.savefig(\"output_data/Latitude_Humidity.png\")\n",
    "plt.show()"
   ]
  },
  {
   "cell_type": "markdown",
   "metadata": {},
   "source": [
    "1. The max humidity of a city does not have dirrect connection with its latitude."
   ]
  },
  {
   "cell_type": "markdown",
   "metadata": {},
   "source": [
    "## Latitude vs. Cloudiness Plot"
   ]
  },
  {
   "cell_type": "code",
   "execution_count": 10,
   "metadata": {},
   "outputs": [
    {
     "data": {
      "image/png": "[encoded data removed]",
      "text/plain": [
       "<Figure size 432x288 with 1 Axes>"
      ]
     },
     "metadata": {
      "needs_background": "light"
     },
     "output_type": "display_data"
    }
   ],
   "source": [
    "plt.scatter(city_data[\"Lat\"],city_data[\"Cloudiness\"],facecolors=\"green\", edgecolors=\"black\")\n",
    "plt.xlabel('Latitude')\n",
    "plt.ylabel('Cloudiness (%)')\n",
    "plt.title('City Latitude vs. Cloudiness(06/21/2020)')\n",
    "plt.grid()\n",
    "plt.savefig(\"output_data/Latitude_Cloudiness.png\")\n",
    "plt.show()"
   ]
  },
  {
   "cell_type": "markdown",
   "metadata": {},
   "source": [
    "1. The cloudiness of a city does not have direct connection with its latitude."
   ]
  },
  {
   "cell_type": "markdown",
   "metadata": {},
   "source": [
    "## Latitude vs. Wind Speed Plot"
   ]
  },
  {
   "cell_type": "code",
   "execution_count": 11,
   "metadata": {},
   "outputs": [
    {
     "data": {
      "image/png": "[encoded data removed]",
      "text/plain": [
       "<Figure size 432x288 with 1 Axes>"
      ]
     },
     "metadata": {
      "needs_background": "light"
     },
     "output_type": "display_data"
    }
   ],
   "source": [
    "plt.scatter(city_data[\"Lat\"],city_data[\"Wind Speed\"],facecolors=\"green\", edgecolors=\"black\")\n",
    "plt.xlabel('Latitude')\n",
    "plt.ylabel('Wind Speed (mph)')\n",
    "plt.title('City Latitude vs. Wind Speed(04/01/2020)')\n",
    "plt.grid()\n",
    "plt.savefig(\"output_data/Latitude_Wind Speed.png\")\n",
    "plt.show()"
   ]
  },
  {
   "cell_type": "markdown",
   "metadata": {},
   "source": [
    "1. The wind speed of a city does not have direct connection with its latitude."
   ]
  },
  {
   "cell_type": "markdown",
   "metadata": {},
   "source": [
    "## Linear Regression"
   ]
  },
  {
   "cell_type": "code",
   "execution_count": 12,
   "metadata": {},
   "outputs": [],
   "source": [
    "# OPTIONAL: Create a function to create Linear Regression plots\n",
    "\n",
    "def linear_regression(x_values, y_values,x_label,y_label,position):\n",
    "    (slope, intercept, rvalue, pvalue, stderr) = linregress(x_values, y_values)\n",
    "    regress_values = x_values * slope + intercept\n",
    "    line_eq = \"y = \" + str(round(slope,2)) + \"x + \" + str(round(intercept,2))\n",
    "    plt.scatter(x_values,y_values)\n",
    "    plt.plot(x_values,regress_values,\"r-\")\n",
    "    plt.annotate(line_eq,position,fontsize=15,color=\"red\")\n",
    "    plt.xlabel(x_label)\n",
    "    plt.ylabel(y_label)\n",
    "    print(f\"The r-squared is: {rvalue**2}\")\n",
    "    plt.show()\n",
    "      "
   ]
  },
  {
   "cell_type": "code",
   "execution_count": 13,
   "metadata": {},
   "outputs": [
    {
     "data": {
      "text/html": [
       "<div>\n",
       "<style scoped>\n",
       "    .dataframe tbody tr th:only-of-type {\n",
       "        vertical-align: middle;\n",
       "    }\n",
       "\n",
       "    .dataframe tbody tr th {\n",
       "        vertical-align: top;\n",
       "    }\n",
       "\n",
       "    .dataframe thead th {\n",
       "        text-align: right;\n",
       "    }\n",
       "</style>\n",
       "<table border=\"1\" class=\"dataframe\">\n",
       "  <thead>\n",
       "    <tr style=\"text-align: right;\">\n",
       "      <th></th>\n",
       "      <th>City</th>\n",
       "      <th>Lat</th>\n",
       "      <th>Lng</th>\n",
       "      <th>Max Temp</th>\n",
       "      <th>Humidity</th>\n",
       "      <th>Cloudiness</th>\n",
       "      <th>Wind Speed</th>\n",
       "      <th>Country</th>\n",
       "      <th>Date</th>\n",
       "    </tr>\n",
       "  </thead>\n",
       "  <tbody>\n",
       "    <tr>\n",
       "      <th>0</th>\n",
       "      <td>thompson</td>\n",
       "      <td>55.74</td>\n",
       "      <td>-97.86</td>\n",
       "      <td>71.6</td>\n",
       "      <td>46</td>\n",
       "      <td>75</td>\n",
       "      <td>4.70</td>\n",
       "      <td>CA</td>\n",
       "      <td>1592855670</td>\n",
       "    </tr>\n",
       "    <tr>\n",
       "      <th>1</th>\n",
       "      <td>manaure</td>\n",
       "      <td>11.78</td>\n",
       "      <td>-72.44</td>\n",
       "      <td>93.2</td>\n",
       "      <td>49</td>\n",
       "      <td>90</td>\n",
       "      <td>13.87</td>\n",
       "      <td>CO</td>\n",
       "      <td>1592855670</td>\n",
       "    </tr>\n",
       "    <tr>\n",
       "      <th>4</th>\n",
       "      <td>kampot</td>\n",
       "      <td>10.62</td>\n",
       "      <td>104.18</td>\n",
       "      <td>78.8</td>\n",
       "      <td>94</td>\n",
       "      <td>40</td>\n",
       "      <td>1.12</td>\n",
       "      <td>KH</td>\n",
       "      <td>1592855671</td>\n",
       "    </tr>\n",
       "    <tr>\n",
       "      <th>5</th>\n",
       "      <td>georgetown</td>\n",
       "      <td>5.41</td>\n",
       "      <td>100.34</td>\n",
       "      <td>78.8</td>\n",
       "      <td>100</td>\n",
       "      <td>40</td>\n",
       "      <td>4.70</td>\n",
       "      <td>MY</td>\n",
       "      <td>1592855671</td>\n",
       "    </tr>\n",
       "    <tr>\n",
       "      <th>6</th>\n",
       "      <td>kapaa</td>\n",
       "      <td>22.08</td>\n",
       "      <td>-159.32</td>\n",
       "      <td>80.6</td>\n",
       "      <td>74</td>\n",
       "      <td>40</td>\n",
       "      <td>10.29</td>\n",
       "      <td>US</td>\n",
       "      <td>1592855671</td>\n",
       "    </tr>\n",
       "  </tbody>\n",
       "</table>\n",
       "</div>"
      ],
      "text/plain": [
       "         City    Lat     Lng  Max Temp  Humidity  Cloudiness  Wind Speed  \\\n",
       "0    thompson  55.74  -97.86      71.6        46          75        4.70   \n",
       "1     manaure  11.78  -72.44      93.2        49          90       13.87   \n",
       "4      kampot  10.62  104.18      78.8        94          40        1.12   \n",
       "5  georgetown   5.41  100.34      78.8       100          40        4.70   \n",
       "6       kapaa  22.08 -159.32      80.6        74          40       10.29   \n",
       "\n",
       "  Country        Date  \n",
       "0      CA  1592855670  \n",
       "1      CO  1592855670  \n",
       "4      KH  1592855671  \n",
       "5      MY  1592855671  \n",
       "6      US  1592855671  "
      ]
     },
     "execution_count": 13,
     "metadata": {},
     "output_type": "execute_result"
    }
   ],
   "source": [
    "# Create Northern and Southern Hemisphere DataFrames\n",
    "northern_city_data = city_data.loc[city_data['Lat'].astype('float')>=0]\n",
    "souther_city_data = city_data.loc[city_data['Lat'].astype('float')<0]\n",
    "northern_city_data.head()"
   ]
  },
  {
   "cell_type": "markdown",
   "metadata": {},
   "source": [
    "####  Northern Hemisphere - Max Temp vs. Latitude Linear Regression"
   ]
  },
  {
   "cell_type": "code",
   "execution_count": 14,
   "metadata": {},
   "outputs": [
    {
     "name": "stdout",
     "output_type": "stream",
     "text": [
      "The r-squared is: 0.5314243395622451\n"
     ]
    },
    {
     "data": {
      "image/png": "[encoded data removed]",
      "text/plain": [
       "<Figure size 432x288 with 1 Axes>"
      ]
     },
     "metadata": {
      "needs_background": "light"
     },
     "output_type": "display_data"
    }
   ],
   "source": [
    "linear_regression(northern_city_data['Lat'], northern_city_data['Max Temp'] ,\"Latitude\",\"Max Temp\",(40,80))"
   ]
  },
  {
   "cell_type": "markdown",
   "metadata": {},
   "source": [
    "1. In northern hemisphere, as the cities go from equator to the north pole, their max temperature goes down."
   ]
  },
  {
   "cell_type": "markdown",
   "metadata": {},
   "source": [
    "####  Southern Hemisphere - Max Temp vs. Latitude Linear Regression"
   ]
  },
  {
   "cell_type": "code",
   "execution_count": 15,
   "metadata": {},
   "outputs": [
    {
     "name": "stdout",
     "output_type": "stream",
     "text": [
      "The r-squared is: 0.5558800167422285\n"
     ]
    },
    {
     "data": {
      "image/png": "[encoded data removed]",
      "text/plain": [
       "<Figure size 432x288 with 1 Axes>"
      ]
     },
     "metadata": {
      "needs_background": "light"
     },
     "output_type": "display_data"
    }
   ],
   "source": [
    "linear_regression(souther_city_data['Lat'], souther_city_data['Max Temp'] ,\"Latitude\",\"Max Temp\",(-30,45))"
   ]
  },
  {
   "cell_type": "markdown",
   "metadata": {},
   "source": [
    "1. In southern hemisphere, as the cities go from the south pole to the equator, their max temperature goes up. "
   ]
  },
  {
   "cell_type": "markdown",
   "metadata": {},
   "source": [
    "####  Northern Hemisphere - Humidity (%) vs. Latitude Linear Regression"
   ]
  },
  {
   "cell_type": "code",
   "execution_count": 16,
   "metadata": {},
   "outputs": [
    {
     "name": "stdout",
     "output_type": "stream",
     "text": [
      "The r-squared is: 2.9905558815836177e-05\n"
     ]
    },
    {
     "data": {
      "image/png": "[encoded data removed]",
      "text/plain": [
       "<Figure size 432x288 with 1 Axes>"
      ]
     },
     "metadata": {
      "needs_background": "light"
     },
     "output_type": "display_data"
    }
   ],
   "source": [
    "linear_regression(northern_city_data['Lat'], northern_city_data['Humidity'] ,\"Latitude\",\"Humidity\",(40,80))"
   ]
  },
  {
   "cell_type": "markdown",
   "metadata": {},
   "source": [
    "1. There is almost no correlation between humidity and latitude for cities in northern hemisphere."
   ]
  },
  {
   "cell_type": "markdown",
   "metadata": {},
   "source": [
    "####  Southern Hemisphere - Humidity (%) vs. Latitude Linear Regression"
   ]
  },
  {
   "cell_type": "code",
   "execution_count": 17,
   "metadata": {},
   "outputs": [
    {
     "name": "stdout",
     "output_type": "stream",
     "text": [
      "The r-squared is: 0.02404563985591878\n"
     ]
    },
    {
     "data": {
      "image/png": "[encoded data removed]",
      "text/plain": [
       "<Figure size 432x288 with 1 Axes>"
      ]
     },
     "metadata": {
      "needs_background": "light"
     },
     "output_type": "display_data"
    }
   ],
   "source": [
    "linear_regression(souther_city_data['Lat'], souther_city_data['Humidity'] ,\"Latitude\",\"Humidity\",(-30,80))"
   ]
  },
  {
   "cell_type": "markdown",
   "metadata": {},
   "source": [
    "1. There is a weak correlation between humidity and latitude for cities in souther hemisphere: as cities go from south pole to the equator, their humidity decreased slightly.\n",
    "2. This is a relative weak correlation from the limited number of cities. As we choose more cities to investigate, the correlation may not exist any more."
   ]
  },
  {
   "cell_type": "markdown",
   "metadata": {},
   "source": [
    "####  Northern Hemisphere - Cloudiness (%) vs. Latitude Linear Regression"
   ]
  },
  {
   "cell_type": "code",
   "execution_count": 18,
   "metadata": {},
   "outputs": [
    {
     "name": "stdout",
     "output_type": "stream",
     "text": [
      "The r-squared is: 0.0033357194193633756\n"
     ]
    },
    {
     "data": {
      "image/png": "[encoded data removed]",
      "text/plain": [
       "<Figure size 432x288 with 1 Axes>"
      ]
     },
     "metadata": {
      "needs_background": "light"
     },
     "output_type": "display_data"
    }
   ],
   "source": [
    "linear_regression(northern_city_data['Lat'], northern_city_data['Cloudiness'] ,\"Latitude\",\"Cloudiness\",(40,60))"
   ]
  },
  {
   "cell_type": "markdown",
   "metadata": {},
   "source": [
    "1. There is almost no correlation between cloudiness and latitude for cities in the northern hemisphere."
   ]
  },
  {
   "cell_type": "markdown",
   "metadata": {},
   "source": [
    "####  Southern Hemisphere - Cloudiness (%) vs. Latitude Linear Regression"
   ]
  },
  {
   "cell_type": "code",
   "execution_count": 19,
   "metadata": {},
   "outputs": [
    {
     "name": "stdout",
     "output_type": "stream",
     "text": [
      "The r-squared is: 1.3350529252070098e-05\n"
     ]
    },
    {
     "data": {
      "image/png": "[encoded data removed]",
      "text/plain": [
       "<Figure size 432x288 with 1 Axes>"
      ]
     },
     "metadata": {
      "needs_background": "light"
     },
     "output_type": "display_data"
    }
   ],
   "source": [
    "linear_regression(souther_city_data['Lat'], souther_city_data['Cloudiness'] ,\"Latitude\",\"Cloudiness\",(-30,40))"
   ]
  },
  {
   "cell_type": "markdown",
   "metadata": {},
   "source": [
    "1. There is almost no correlation between cloudiness and latitude for cities in the southern hemisphere."
   ]
  },
  {
   "cell_type": "markdown",
   "metadata": {},
   "source": [
    "####  Northern Hemisphere - Wind Speed (mph) vs. Latitude Linear Regression"
   ]
  },
  {
   "cell_type": "code",
   "execution_count": 20,
   "metadata": {},
   "outputs": [
    {
     "name": "stdout",
     "output_type": "stream",
     "text": [
      "The r-squared is: 0.001480598740009901\n"
     ]
    },
    {
     "data": {
      "image/png": "[encoded data removed]",
      "text/plain": [
       "<Figure size 432x288 with 1 Axes>"
      ]
     },
     "metadata": {
      "needs_background": "light"
     },
     "output_type": "display_data"
    }
   ],
   "source": [
    "linear_regression(northern_city_data['Lat'], northern_city_data['Wind Speed'] ,\"Latitude\",\"Wind Speed\",(40,10))"
   ]
  },
  {
   "cell_type": "markdown",
   "metadata": {},
   "source": [
    "1. There is almost no correlation between wind speed and latitude for cities in the northern hemisphere."
   ]
  },
  {
   "cell_type": "markdown",
   "metadata": {},
   "source": [
    "####  Southern Hemisphere - Wind Speed (mph) vs. Latitude Linear Regression"
   ]
  },
  {
   "cell_type": "code",
   "execution_count": 21,
   "metadata": {
    "scrolled": true
   },
   "outputs": [
    {
     "name": "stdout",
     "output_type": "stream",
     "text": [
      "The r-squared is: 0.004757444199516442\n"
     ]
    },
    {
     "data": {
      "image/png": "[encoded data removed]",
      "text/plain": [
       "<Figure size 432x288 with 1 Axes>"
      ]
     },
     "metadata": {
      "needs_background": "light"
     },
     "output_type": "display_data"
    }
   ],
   "source": [
    "linear_regression(souther_city_data['Lat'], souther_city_data['Wind Speed'] ,\"Latitude\",\"Wind Speed\",(-30,10))"
   ]
  },
  {
   "cell_type": "markdown",
   "metadata": {},
   "source": [
    "1. There is almost no correlation between wind speed and latitude for cities in the southern hemisphere."
   ]
  },
  {
   "cell_type": "code",
   "execution_count": null,
   "metadata": {},
   "outputs": [],
   "source": []
  }
 ],
 "metadata": {
  "anaconda-cloud": {},
  "kernel_info": {
   "name": "python3"
  },
  "kernelspec": {
   "display_name": "Python 3",
   "language": "python",
   "name": "python3"
  },
  "language_info": {
   "codemirror_mode": {
    "name": "ipython",
    "version": 3
   },
   "file_extension": ".py",
   "mimetype": "text/x-python",
   "name": "python",
   "nbconvert_exporter": "python",
   "pygments_lexer": "ipython3",
   "version": "3.7.6"
  },
  "latex_envs": {
   "LaTeX_envs_menu_present": true,
   "autoclose": false,
   "autocomplete": true,
   "bibliofile": "biblio.bib",
   "cite_by": "apalike",
   "current_citInitial": 1,
   "eqLabelWithNumbers": true,
   "eqNumInitial": 1,
   "hotkeys": {
    "equation": "Ctrl-E",
    "itemize": "Ctrl-I"
   },
   "labels_anchors": false,
   "latex_user_defs": false,
   "report_style_numbering": false,
   "user_envs_cfg": false
  },
  "nteract": {
   "version": "0.12.3"
  }
 },
 "nbformat": 4,
 "nbformat_minor": 2
}
