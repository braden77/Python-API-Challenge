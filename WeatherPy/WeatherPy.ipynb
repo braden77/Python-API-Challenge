{
 "cells": [
  {
   "cell_type": "markdown",
   "metadata": {},
   "source": [
    "# WeatherPy\n",
    "----\n",
    "\n",
    "#### Note\n",
    "* Instructions have been included for each segment. You do not have to follow them exactly, but they are included to help you think through the steps."
   ]
  },
  {
   "cell_type": "code",
   "execution_count": 1,
   "metadata": {
    "scrolled": true
   },
   "outputs": [],
   "source": [
    "# Dependencies and Setup\n",
    "import matplotlib.pyplot as plt\n",
    "import pandas as pd\n",
    "import numpy as np\n",
    "import requests\n",
    "import time\n",
    "from scipy.stats import linregress\n",
    "\n",
    "# Import API key\n",
    "from api_keys import weather_api_key\n",
    "\n",
    "# Incorporated citipy to determine city based on latitude and longitude\n",
    "from citipy import citipy\n",
    "\n",
    "# Output File (CSV)\n",
    "output_data_file = \"output_data/cities.csv\"\n",
    "\n",
    "# Range of latitudes and longitudes\n",
    "lat_range = (-90, 90)\n",
    "lng_range = (-180, 180)"
   ]
  },
  {
   "cell_type": "markdown",
   "metadata": {},
   "source": [
    "## Generate Cities List"
   ]
  },
  {
   "cell_type": "code",
   "execution_count": 2,
   "metadata": {},
   "outputs": [
    {
     "data": {
      "text/plain": [
       "628"
      ]
     },
     "execution_count": 2,
     "metadata": {},
     "output_type": "execute_result"
    }
   ],
   "source": [
    "# List for holding lat_lngs and cities\n",
    "lat_lngs = []\n",
    "cities = []\n",
    "\n",
    "# Create a set of random lat and lng combinations\n",
    "lats = np.random.uniform(lat_range[0], lat_range[1], size=1500)\n",
    "lngs = np.random.uniform(lng_range[0], lng_range[1], size=1500)\n",
    "lat_lngs = zip(lats, lngs)\n",
    "\n",
    "# Identify nearest city for each lat, lng combination\n",
    "for lat_lng in lat_lngs:\n",
    "    city = citipy.nearest_city(lat_lng[0], lat_lng[1]).city_name\n",
    "    \n",
    "    # If the city is unique, then add it to a our cities list\n",
    "    if city not in cities:\n",
    "        cities.append(city)\n",
    "\n",
    "# Print the city count to confirm sufficient count\n",
    "len(cities)"
   ]
  },
  {
   "cell_type": "markdown",
   "metadata": {},
   "source": [
    "### Perform API Calls\n",
    "* Perform a weather check on each city using a series of successive API calls.\n",
    "* Include a print log of each city as it'sbeing processed (with the city number and city name).\n"
   ]
  },
  {
   "cell_type": "code",
   "execution_count": 3,
   "metadata": {},
   "outputs": [
    {
     "name": "stdout",
     "output_type": "stream",
     "text": [
      "Beginning Data Retrieval\n",
      "-----------------------------\n",
      "Processing Record 0 | puerto ayora\n",
      "Processing Record 1 | butaritari\n",
      "Processing Record 2 | arraial do cabo\n",
      "Processing Record 3 | mar del plata\n",
      "Processing Record 4 | bluff\n",
      "Processing Record 5 | esperance\n",
      "Processing Record 6 | san patricio\n",
      "Processing Record 7 | bredasdorp\n",
      "Processing Record 8 | svetlogorsk\n",
      "Processing Record 9 | rawson\n",
      "Processing Record 10 | tiznit\n",
      "Processing Record 11 | hualmay\n",
      "Processing Record 12 | port lincoln\n",
      "Processing Record 13 | sao filipe\n",
      "Processing Record 14 | bambous virieux\n",
      "Processing Record 15 | hermanus\n",
      "Processing Record 16 | yellowknife\n",
      "Processing Record 17 | chuy\n",
      "Processing Record 18 | cape town\n",
      "Processing Record 19 | hirara\n",
      "Processing Record 20 | ponta do sol\n",
      "Processing Record 21 | tuktoyaktuk\n",
      "Processing Record 22 | punta arenas\n",
      "Processing Record 23 | ilulissat\n",
      "Processing Record 24 | santa isabel do rio negro\n",
      "Processing Record 25 | nioro\n",
      "Processing Record 26 | san lorenzo\n",
      "Processing Record 27 | cabedelo\n",
      "Processing Record 28 | bengkulu\n",
      "City not found. Skipping...\n",
      "Processing Record 29 | alta floresta\n",
      "Processing Record 30 | san cristobal\n",
      "Processing Record 31 | zarautz\n",
      "Processing Record 32 | port elizabeth\n",
      "Processing Record 33 | saint-leu\n",
      "Processing Record 34 | rikitea\n",
      "Processing Record 35 | east london\n",
      "Processing Record 36 | svetlaya\n",
      "Processing Record 37 | wewak\n",
      "Processing Record 38 | hamilton\n",
      "Processing Record 39 | broken hill\n",
      "Processing Record 40 | mandalgovi\n",
      "Processing Record 41 | thinadhoo\n",
      "Processing Record 42 | adrar\n",
      "Processing Record 43 | saskylakh\n",
      "Processing Record 44 | port alfred\n",
      "Processing Record 45 | khatanga\n",
      "Processing Record 46 | aykhal\n",
      "Processing Record 47 | beringovskiy\n",
      "Processing Record 48 | vaini\n",
      "Processing Record 49 | atambua\n",
      "Processing Record 50 | marawi\n",
      "Processing Record 51 | forio\n",
      "Processing Record 52 | poum\n",
      "Processing Record 53 | chokurdakh\n",
      "Processing Record 54 | georgetown\n",
      "Processing Record 55 | la palma\n",
      "Processing Record 56 | atar\n",
      "Processing Record 57 | iturama\n",
      "Processing Record 58 | albany\n",
      "Processing Record 59 | hendek\n",
      "City not found. Skipping...\n",
      "Processing Record 60 | valsamata\n",
      "Processing Record 61 | canico\n",
      "Processing Record 62 | kapaa\n",
      "Processing Record 63 | amuntai\n",
      "Processing Record 64 | thompson\n",
      "Processing Record 65 | avarua\n",
      "Processing Record 66 | benjamin hill\n",
      "Processing Record 67 | bathsheba\n",
      "Processing Record 68 | nanortalik\n",
      "Processing Record 69 | mataura\n",
      "Processing Record 70 | hobart\n",
      "Processing Record 71 | tucurui\n",
      "Processing Record 72 | torbay\n",
      "Processing Record 73 | bethel\n",
      "City not found. Skipping...\n",
      "Processing Record 74 | dikson\n",
      "City not found. Skipping...\n",
      "Processing Record 75 | tiksi\n",
      "Processing Record 76 | kumluca\n",
      "Processing Record 77 | busselton\n",
      "Processing Record 78 | dingle\n",
      "Processing Record 79 | yaan\n",
      "Processing Record 80 | birobidzhan\n",
      "Processing Record 81 | kodiak\n",
      "Processing Record 82 | hithadhoo\n",
      "Processing Record 83 | pisco\n",
      "Processing Record 84 | airai\n",
      "Processing Record 85 | tarragona\n",
      "City not found. Skipping...\n",
      "Processing Record 86 | kununurra\n",
      "Processing Record 87 | aklavik\n",
      "Processing Record 88 | blagoveshchenka\n",
      "Processing Record 89 | richards bay\n",
      "Processing Record 90 | isangel\n",
      "Processing Record 91 | sept-iles\n",
      "Processing Record 92 | hilo\n",
      "Processing Record 93 | cozumel\n",
      "Processing Record 94 | kavaratti\n",
      "Processing Record 95 | sangar\n",
      "City not found. Skipping...\n",
      "Processing Record 96 | victoria\n",
      "Processing Record 97 | leh\n",
      "Processing Record 98 | kaitangata\n",
      "Processing Record 99 | castro\n",
      "Processing Record 100 | singkang\n",
      "Processing Record 101 | ponta delgada\n",
      "Processing Record 102 | lamar\n",
      "Processing Record 103 | iquique\n",
      "Processing Record 104 | lasa\n",
      "Processing Record 105 | road town\n",
      "Processing Record 106 | begunitsy\n",
      "Processing Record 107 | baruun-urt\n",
      "Processing Record 108 | salym\n",
      "Processing Record 109 | san pedro del pinatar\n",
      "City not found. Skipping...\n",
      "Processing Record 110 | ushuaia\n",
      "Processing Record 111 | carnarvon\n",
      "Processing Record 112 | girne\n",
      "Processing Record 113 | cabo san lucas\n",
      "City not found. Skipping...\n",
      "Processing Record 114 | grand gaube\n",
      "City not found. Skipping...\n",
      "City not found. Skipping...\n",
      "Processing Record 115 | inirida\n",
      "City not found. Skipping...\n",
      "Processing Record 116 | new norfolk\n",
      "Processing Record 117 | esil\n",
      "Processing Record 118 | sakakah\n",
      "Processing Record 119 | ziro\n",
      "Processing Record 120 | suntar\n",
      "Processing Record 121 | virginia beach\n",
      "Processing Record 122 | camacha\n",
      "Processing Record 123 | mogadouro\n",
      "Processing Record 124 | fortuna\n",
      "Processing Record 125 | leeton\n",
      "City not found. Skipping...\n",
      "Processing Record 126 | san jose\n",
      "Processing Record 127 | ballina\n",
      "City not found. Skipping...\n",
      "Processing Record 128 | lebu\n",
      "Processing Record 129 | norman wells\n",
      "Processing Record 130 | la baneza\n",
      "Processing Record 131 | saldanha\n",
      "Processing Record 132 | maloy\n",
      "Processing Record 133 | albania\n",
      "Processing Record 134 | kahului\n",
      "Processing Record 135 | okha\n",
      "Processing Record 136 | caibarien\n",
      "Processing Record 137 | alihe\n",
      "Processing Record 138 | bismarck\n",
      "Processing Record 139 | keti bandar\n",
      "Processing Record 140 | kysyl-syr\n",
      "Processing Record 141 | charters towers\n",
      "Processing Record 142 | warragul\n",
      "Processing Record 143 | sao felix do xingu\n",
      "Processing Record 144 | maniitsoq\n",
      "City not found. Skipping...\n",
      "Processing Record 145 | padang\n",
      "Processing Record 146 | ribeira grande\n",
      "Processing Record 147 | hereford\n",
      "Processing Record 148 | lubyany\n",
      "Processing Record 149 | jamestown\n",
      "Processing Record 150 | seoul\n",
      "Processing Record 151 | dmitrov\n",
      "Processing Record 152 | ibra\n",
      "Processing Record 153 | sao joaquim\n",
      "Processing Record 154 | narsaq\n",
      "Processing Record 155 | grootfontein\n",
      "Processing Record 156 | lata\n",
      "Processing Record 157 | emerald\n",
      "Processing Record 158 | saint-louis\n",
      "Processing Record 159 | rampura\n",
      "Processing Record 160 | taltal\n",
      "Processing Record 161 | marsa matruh\n",
      "Processing Record 162 | muros\n",
      "Processing Record 163 | vila\n",
      "Processing Record 164 | haines junction\n",
      "Processing Record 165 | zhigansk\n",
      "Processing Record 166 | puerto escondido\n",
      "Processing Record 167 | naryan-mar\n",
      "Processing Record 168 | salihorsk\n",
      "Processing Record 169 | tautira\n",
      "Processing Record 170 | lompoc\n",
      "Processing Record 171 | canala\n",
      "Processing Record 172 | byron bay\n",
      "City not found. Skipping...\n",
      "Processing Record 173 | katsuura\n",
      "Processing Record 174 | durban\n",
      "Processing Record 175 | tilichiki\n",
      "City not found. Skipping...\n",
      "Processing Record 176 | codrington\n",
      "Processing Record 177 | meulaboh\n",
      "Processing Record 178 | saint-augustin\n",
      "City not found. Skipping...\n",
      "Processing Record 179 | nhamunda\n",
      "Processing Record 180 | morros\n",
      "Processing Record 181 | cayenne\n",
      "Processing Record 182 | verkhnevilyuysk\n",
      "Processing Record 183 | wagga wagga\n",
      "Processing Record 184 | faya\n",
      "Processing Record 185 | fort nelson\n",
      "Processing Record 186 | trier\n",
      "Processing Record 187 | yeppoon\n",
      "Processing Record 188 | shenjiamen\n",
      "Processing Record 189 | papayal\n",
      "Processing Record 190 | qaanaaq\n",
      "Processing Record 191 | tasiilaq\n",
      "Processing Record 192 | rocha\n",
      "City not found. Skipping...\n",
      "Processing Record 193 | mahebourg\n",
      "Processing Record 194 | sidmouth\n",
      "City not found. Skipping...\n",
      "Processing Record 195 | talnakh\n",
      "Processing Record 196 | yulara\n",
      "Processing Record 197 | port blair\n",
      "Processing Record 198 | javornik\n",
      "Processing Record 199 | krasnoselkup\n",
      "Processing Record 200 | olafsvik\n",
      "Processing Record 201 | thouars\n",
      "Processing Record 202 | herouville-saint-clair\n",
      "Processing Record 203 | tubize\n",
      "Processing Record 204 | shingu\n",
      "Processing Record 205 | vestmannaeyjar\n",
      "Processing Record 206 | klaksvik\n",
      "City not found. Skipping...\n",
      "Processing Record 207 | geraldton\n",
      "City not found. Skipping...\n",
      "Processing Record 208 | san vicente\n",
      "Processing Record 209 | ancud\n",
      "City not found. Skipping...\n",
      "Processing Record 210 | tezu\n",
      "Processing Record 211 | souillac\n",
      "Processing Record 212 | qaqortoq\n",
      "Processing Record 213 | pitea\n",
      "Processing Record 214 | sharjah\n",
      "Processing Record 215 | yar-sale\n",
      "Processing Record 216 | effingham\n",
      "Processing Record 217 | inhambane\n",
      "Processing Record 218 | derzhavinsk\n",
      "City not found. Skipping...\n",
      "Processing Record 219 | severo-kurilsk\n",
      "Processing Record 220 | dunedin\n",
      "City not found. Skipping...\n",
      "Processing Record 221 | coihaique\n",
      "Processing Record 222 | rivera\n",
      "Processing Record 223 | leningradskiy\n",
      "Processing Record 224 | atuona\n",
      "Processing Record 225 | dong hoi\n",
      "Processing Record 226 | datia\n"
     ]
    },
    {
     "name": "stdout",
     "output_type": "stream",
     "text": [
      "Processing Record 227 | churapcha\n",
      "Processing Record 228 | mount isa\n",
      "City not found. Skipping...\n",
      "Processing Record 229 | roman\n",
      "Processing Record 230 | karratha\n",
      "Processing Record 231 | ati\n",
      "Processing Record 232 | lorengau\n",
      "Processing Record 233 | sawakin\n",
      "Processing Record 234 | kruisfontein\n",
      "City not found. Skipping...\n",
      "Processing Record 235 | omsukchan\n",
      "City not found. Skipping...\n",
      "Processing Record 236 | vondrozo\n",
      "Processing Record 237 | hami\n",
      "Processing Record 238 | kpandae\n",
      "Processing Record 239 | rio verde de mato grosso\n",
      "Processing Record 240 | chapais\n",
      "Processing Record 241 | nova friburgo\n",
      "City not found. Skipping...\n",
      "Processing Record 242 | mantua\n",
      "Processing Record 243 | popondetta\n",
      "Processing Record 244 | san quintin\n",
      "Processing Record 245 | los llanos de aridane\n",
      "Processing Record 246 | ulaangom\n",
      "Processing Record 247 | faanui\n",
      "Processing Record 248 | benjamin constant\n",
      "Processing Record 249 | ahipara\n",
      "Processing Record 250 | saint-philippe\n",
      "Processing Record 251 | hasaki\n",
      "Processing Record 252 | sinnamary\n",
      "Processing Record 253 | tulun\n",
      "Processing Record 254 | vila franca do campo\n",
      "Processing Record 255 | longyearbyen\n",
      "Processing Record 256 | la ronge\n",
      "Processing Record 257 | koslan\n",
      "Processing Record 258 | maun\n",
      "Processing Record 259 | nikolskoye\n",
      "Processing Record 260 | imeni poliny osipenko\n",
      "Processing Record 261 | upernavik\n",
      "Processing Record 262 | anchorage\n",
      "Processing Record 263 | constitucion\n",
      "Processing Record 264 | pevek\n",
      "Processing Record 265 | okhotsk\n",
      "Processing Record 266 | mersing\n",
      "Processing Record 267 | tres arroyos\n",
      "Processing Record 268 | cockburn town\n",
      "Processing Record 269 | gushi\n",
      "Processing Record 270 | srednekolymsk\n",
      "Processing Record 271 | coquimbo\n",
      "Processing Record 272 | labuhan\n",
      "Processing Record 273 | walvis bay\n",
      "Processing Record 274 | columbus\n",
      "City not found. Skipping...\n",
      "Processing Record 275 | acapulco\n",
      "Processing Record 276 | carutapera\n",
      "Processing Record 277 | salalah\n",
      "Processing Record 278 | cartagena\n",
      "Processing Record 279 | okato\n",
      "Processing Record 280 | omboue\n",
      "Processing Record 281 | lagoa\n",
      "Processing Record 282 | oistins\n",
      "Processing Record 283 | figeac\n",
      "Processing Record 284 | dingzhou\n",
      "Processing Record 285 | belaya gora\n",
      "Processing Record 286 | bonthe\n",
      "Processing Record 287 | freeport\n",
      "Processing Record 288 | zhanjiang\n",
      "Processing Record 289 | xique-xique\n",
      "Processing Record 290 | banikoara\n",
      "Processing Record 291 | portland\n",
      "Processing Record 292 | butterworth\n",
      "Processing Record 293 | seredka\n",
      "Processing Record 294 | barrow\n",
      "Processing Record 295 | serenje\n",
      "Processing Record 296 | arona\n",
      "Processing Record 297 | buenos aires\n",
      "Processing Record 298 | otane\n",
      "Processing Record 299 | gigmoto\n",
      "Processing Record 300 | ambunti\n",
      "Processing Record 301 | bahawalpur\n",
      "Processing Record 302 | grindavik\n",
      "Processing Record 303 | malanje\n",
      "Processing Record 304 | morgan city\n",
      "Processing Record 305 | amot\n",
      "Processing Record 306 | podyuga\n",
      "Processing Record 307 | naze\n",
      "City not found. Skipping...\n",
      "Processing Record 308 | barkot\n",
      "City not found. Skipping...\n",
      "Processing Record 309 | ekhabi\n",
      "Processing Record 310 | fairview\n",
      "Processing Record 311 | gidrotorf\n",
      "Processing Record 312 | pangnirtung\n",
      "Processing Record 313 | jablah\n",
      "Processing Record 314 | uruzgan\n",
      "Processing Record 315 | jefferson city\n",
      "Processing Record 316 | sivaki\n",
      "Processing Record 317 | macomb\n",
      "Processing Record 318 | nome\n",
      "Processing Record 319 | sabang\n",
      "Processing Record 320 | lewistown\n",
      "Processing Record 321 | nouadhibou\n",
      "Processing Record 322 | nova odesa\n",
      "Processing Record 323 | uyemskiy\n",
      "Processing Record 324 | biak\n",
      "Processing Record 325 | umm lajj\n",
      "Processing Record 326 | baghdad\n",
      "Processing Record 327 | luanda\n",
      "Processing Record 328 | caravelas\n",
      "City not found. Skipping...\n",
      "Processing Record 329 | ucluelet\n",
      "City not found. Skipping...\n",
      "Processing Record 330 | sitka\n",
      "Processing Record 331 | bambanglipuro\n",
      "Processing Record 332 | gua musang\n",
      "Processing Record 333 | raga\n",
      "Processing Record 334 | seinajoki\n",
      "Processing Record 335 | qui nhon\n",
      "Processing Record 336 | bezhetsk\n",
      "Processing Record 337 | homer\n",
      "Processing Record 338 | makokou\n",
      "City not found. Skipping...\n",
      "Processing Record 339 | north myrtle beach\n",
      "Processing Record 340 | coihueco\n",
      "Processing Record 341 | aksarka\n",
      "Processing Record 342 | tarakan\n",
      "Processing Record 343 | santa luzia\n",
      "City not found. Skipping...\n",
      "City not found. Skipping...\n",
      "Processing Record 344 | divnomorskoye\n",
      "Processing Record 345 | ordu\n",
      "Processing Record 346 | gold coast\n",
      "Processing Record 347 | sarangani\n",
      "Processing Record 348 | puerto castilla\n",
      "Processing Record 349 | awash\n",
      "Processing Record 350 | kargasok\n",
      "Processing Record 351 | andenes\n",
      "Processing Record 352 | narasannapeta\n",
      "Processing Record 353 | cherskiy\n",
      "Processing Record 354 | iqaluit\n",
      "Processing Record 355 | moron\n",
      "Processing Record 356 | dois vizinhos\n",
      "Processing Record 357 | guangyuan\n",
      "Processing Record 358 | zakamensk\n",
      "Processing Record 359 | itaueira\n",
      "Processing Record 360 | lusambo\n",
      "Processing Record 361 | half moon bay\n",
      "Processing Record 362 | hong gai\n",
      "Processing Record 363 | atmakur\n",
      "City not found. Skipping...\n",
      "Processing Record 364 | bubaque\n",
      "City not found. Skipping...\n",
      "Processing Record 365 | tena\n",
      "City not found. Skipping...\n",
      "Processing Record 366 | xapuri\n",
      "Processing Record 367 | gorshechnoye\n",
      "Processing Record 368 | kurchum\n",
      "Processing Record 369 | khanewal\n",
      "Processing Record 370 | cidreira\n",
      "Processing Record 371 | ca mau\n",
      "Processing Record 372 | acarau\n",
      "Processing Record 373 | narrabri\n",
      "Processing Record 374 | urusha\n",
      "Processing Record 375 | kavieng\n",
      "Processing Record 376 | kenora\n",
      "Processing Record 377 | sao gabriel da cachoeira\n",
      "Processing Record 378 | dalvik\n",
      "Processing Record 379 | newcastle\n",
      "Processing Record 380 | mpika\n",
      "Processing Record 381 | sibolga\n",
      "Processing Record 382 | touros\n",
      "Processing Record 383 | muhos\n",
      "Processing Record 384 | kuvandyk\n",
      "Processing Record 385 | nesna\n",
      "Processing Record 386 | kenai\n",
      "Processing Record 387 | sigli\n",
      "Processing Record 388 | provideniya\n",
      "Processing Record 389 | usinsk\n",
      "Processing Record 390 | polunochnoye\n",
      "Processing Record 391 | sulangan\n",
      "Processing Record 392 | the valley\n",
      "Processing Record 393 | three hills\n",
      "Processing Record 394 | chimore\n",
      "Processing Record 395 | komsomolskiy\n",
      "Processing Record 396 | victor harbor\n",
      "Processing Record 397 | luderitz\n",
      "Processing Record 398 | huilong\n",
      "Processing Record 399 | pak phanang\n",
      "Processing Record 400 | vaitape\n",
      "Processing Record 401 | mehamn\n",
      "Processing Record 402 | sur\n",
      "Processing Record 403 | santa rosa\n",
      "Processing Record 404 | caxito\n",
      "Processing Record 405 | davila\n",
      "Processing Record 406 | antalaha\n",
      "Processing Record 407 | ileza\n",
      "Processing Record 408 | tessalit\n",
      "Processing Record 409 | nueva loja\n",
      "Processing Record 410 | nhulunbuy\n",
      "City not found. Skipping...\n",
      "Processing Record 411 | starkville\n",
      "Processing Record 412 | trincomalee\n",
      "Processing Record 413 | lubango\n",
      "Processing Record 414 | elk point\n",
      "Processing Record 415 | lahij\n",
      "Processing Record 416 | montijo\n",
      "Processing Record 417 | elko\n",
      "Processing Record 418 | wenling\n",
      "Processing Record 419 | griffith\n",
      "Processing Record 420 | gasa\n",
      "Processing Record 421 | tuatapere\n",
      "Processing Record 422 | wichita falls\n",
      "Processing Record 423 | kawhia\n",
      "Processing Record 424 | san benito\n",
      "Processing Record 425 | tateyama\n",
      "Processing Record 426 | vestmanna\n",
      "Processing Record 427 | taoudenni\n",
      "Processing Record 428 | harper\n",
      "Processing Record 429 | mesaria\n",
      "Processing Record 430 | labrea\n",
      "Processing Record 431 | mezen\n",
      "Processing Record 432 | bikaner\n",
      "Processing Record 433 | show low\n",
      "Processing Record 434 | zyryanka\n",
      "Processing Record 435 | kieta\n",
      "Processing Record 436 | ratangarh\n",
      "Processing Record 437 | hervey bay\n",
      "City not found. Skipping...\n",
      "Processing Record 438 | marsh harbour\n",
      "Processing Record 439 | kuala kedah\n",
      "Processing Record 440 | san rafael\n",
      "Processing Record 441 | kunszentmarton\n",
      "Processing Record 442 | botwood\n",
      "Processing Record 443 | fairbanks\n",
      "Processing Record 444 | svetlyy\n",
      "Processing Record 445 | rio gallegos\n",
      "Processing Record 446 | cotonou\n",
      "Processing Record 447 | brandon\n",
      "Processing Record 448 | ternate\n",
      "Processing Record 449 | roswell\n",
      "Processing Record 450 | abancay\n",
      "Processing Record 451 | berlevag\n",
      "Processing Record 452 | vardo\n",
      "Processing Record 453 | tunceli\n",
      "Processing Record 454 | sao raimundo nonato\n",
      "Processing Record 455 | ostrovnoy\n",
      "Processing Record 456 | puerto madero\n",
      "City not found. Skipping...\n",
      "Processing Record 457 | healdsburg\n",
      "Processing Record 458 | norden\n"
     ]
    },
    {
     "name": "stdout",
     "output_type": "stream",
     "text": [
      "Processing Record 459 | lumeje\n",
      "Processing Record 460 | comodoro rivadavia\n",
      "Processing Record 461 | jinka\n",
      "Processing Record 462 | salamiyah\n",
      "Processing Record 463 | port macquarie\n",
      "Processing Record 464 | boksitogorsk\n",
      "Processing Record 465 | pimentel\n",
      "Processing Record 466 | kajaani\n",
      "Processing Record 467 | xichang\n",
      "Processing Record 468 | te anau\n",
      "Processing Record 469 | keuruu\n",
      "Processing Record 470 | lianzhou\n",
      "Processing Record 471 | chepareria\n",
      "Processing Record 472 | sao jose da coroa grande\n",
      "City not found. Skipping...\n",
      "Processing Record 473 | la reforma\n",
      "Processing Record 474 | hammerfest\n",
      "Processing Record 475 | yurga\n",
      "Processing Record 476 | saint-francois\n",
      "Processing Record 477 | bjornevatn\n",
      "Processing Record 478 | ittiri\n",
      "Processing Record 479 | kralendijk\n",
      "Processing Record 480 | juchitlan\n",
      "Processing Record 481 | buraydah\n",
      "Processing Record 482 | kendal\n",
      "City not found. Skipping...\n",
      "Processing Record 483 | shache\n",
      "Processing Record 484 | evensk\n",
      "Processing Record 485 | manakara\n",
      "Processing Record 486 | leticia\n",
      "City not found. Skipping...\n",
      "Processing Record 487 | asilah\n",
      "Processing Record 488 | springfield\n",
      "Processing Record 489 | vyshkov\n",
      "Processing Record 490 | kalaleh\n",
      "Processing Record 491 | raudeberg\n",
      "Processing Record 492 | ostersund\n",
      "Processing Record 493 | semporna\n",
      "Processing Record 494 | beni\n",
      "Processing Record 495 | kennewick\n",
      "Processing Record 496 | balaipungut\n",
      "Processing Record 497 | paamiut\n",
      "Processing Record 498 | nichinan\n",
      "Processing Record 499 | magangue\n",
      "Processing Record 500 | sai buri\n",
      "Processing Record 501 | poronaysk\n",
      "Processing Record 502 | brewster\n",
      "Processing Record 503 | palana\n",
      "Processing Record 504 | guerrero negro\n",
      "Processing Record 505 | mbuji-mayi\n",
      "Processing Record 506 | hobyo\n",
      "Processing Record 507 | escanaba\n",
      "Processing Record 508 | teya\n",
      "Processing Record 509 | port hardy\n",
      "Processing Record 510 | progreso\n",
      "Processing Record 511 | kampot\n",
      "Processing Record 512 | bayir\n",
      "Processing Record 513 | rucheng\n",
      "Processing Record 514 | clyde river\n",
      "Processing Record 515 | kailua\n",
      "Processing Record 516 | broome\n",
      "Processing Record 517 | mocuba\n",
      "Processing Record 518 | santa vitoria\n",
      "Processing Record 519 | loubomo\n",
      "Processing Record 520 | tangshan\n",
      "Processing Record 521 | port keats\n",
      "City not found. Skipping...\n",
      "Processing Record 522 | severnyy\n",
      "Processing Record 523 | luorong\n",
      "Processing Record 524 | kalmunai\n",
      "Processing Record 525 | sidi ali\n",
      "Processing Record 526 | bone\n",
      "Processing Record 527 | kilindoni\n",
      "Processing Record 528 | alofi\n",
      "Processing Record 529 | beisfjord\n",
      "Processing Record 530 | slave lake\n",
      "Processing Record 531 | karavayevo\n",
      "Processing Record 532 | nago\n",
      "Processing Record 533 | cortez\n",
      "Processing Record 534 | anadyr\n",
      "Processing Record 535 | phek\n",
      "Processing Record 536 | noumea\n",
      "Processing Record 537 | general pico\n",
      "Processing Record 538 | kamien pomorski\n",
      "Processing Record 539 | ada\n",
      "Processing Record 540 | vila velha\n",
      "Processing Record 541 | hanstholm\n",
      "Processing Record 542 | dudinka\n",
      "Processing Record 543 | deputatskiy\n",
      "Processing Record 544 | jalu\n",
      "Processing Record 545 | araria\n",
      "Processing Record 546 | balancan\n",
      "Processing Record 547 | bukama\n",
      "Processing Record 548 | wanning\n",
      "Processing Record 549 | gawler\n",
      "Processing Record 550 | shimoda\n",
      "Processing Record 551 | sukhumi\n",
      "Processing Record 552 | tura\n",
      "Processing Record 553 | kropotkin\n",
      "City not found. Skipping...\n",
      "Processing Record 554 | surgut\n",
      "Processing Record 555 | preston\n",
      "Processing Record 556 | serov\n",
      "Processing Record 557 | warwick\n",
      "Processing Record 558 | altay\n",
      "Processing Record 559 | butembo\n",
      "Processing Record 560 | akyab\n",
      "City not found. Skipping...\n",
      "Processing Record 561 | santa maria\n",
      "City not found. Skipping...\n",
      "Processing Record 562 | varnavino\n",
      "Processing Record 563 | guilford\n",
      "Processing Record 564 | san luis\n",
      "Processing Record 565 | cap-aux-meules\n",
      "Processing Record 566 | sioux lookout\n",
      "Processing Record 567 | almaznyy\n",
      "Processing Record 568 | soma\n",
      "Processing Record 569 | pouebo\n",
      "Processing Record 570 | ilinskiy\n",
      "Processing Record 571 | nikita\n",
      "Processing Record 572 | mayor pablo lagerenza\n",
      "Processing Record 573 | chivay\n",
      "Processing Record 574 | chicama\n",
      "Processing Record 575 | zhangjiakou\n",
      "Processing Record 576 | hernani\n",
      "Processing Record 577 | constantine\n",
      "Processing Record 578 | san juan de la maguana\n"
     ]
    }
   ],
   "source": [
    "url = \"http://api.openweathermap.org/data/2.5/weather?\"\n",
    "query_url = f\"{url}appid={weather_api_key}&units=imperial&q=\"\n",
    "max_temp=[]\n",
    "humidity = []\n",
    "cloudiness =[]\n",
    "wind_speed = []\n",
    "country = []\n",
    "date = []\n",
    "city_update = []\n",
    "lat_update = []\n",
    "lng_update = []\n",
    "i=0\n",
    "\n",
    "print(\"Beginning Data Retrieval\")\n",
    "print(\"-----------------------------\")\n",
    "for city in cities:\n",
    "    \n",
    "    response = requests.get(query_url + city).json()\n",
    "    \n",
    "    try:\n",
    "        \n",
    "        max_temp.append(response['main']['temp_max'])\n",
    "        humidity.append(response['main']['humidity'])\n",
    "        cloudiness.append(response['clouds']['all'])\n",
    "        wind_speed.append(response['wind']['speed'])\n",
    "        country.append(response['sys']['country'])\n",
    "        date.append(response['dt'])\n",
    "        city_update.append(city)\n",
    "        lat_update.append(response['coord']['lat'])\n",
    "        lng_update.append(response['coord']['lon'])\n",
    "        print(f\"Processing Record {i} | {city}\")\n",
    "        i=i+1\n",
    "    \n",
    "    except:\n",
    "        print(\"City not found. Skipping...\")\n",
    "        pass\n",
    "    "
   ]
  },
  {
   "cell_type": "markdown",
   "metadata": {},
   "source": [
    "### Convert Raw Data to DataFrame\n",
    "* Export the city data into a .csv.\n",
    "* Display the DataFrame"
   ]
  },
  {
   "cell_type": "code",
   "execution_count": 4,
   "metadata": {},
   "outputs": [
    {
     "data": {
      "text/plain": [
       "City          579\n",
       "Lat           579\n",
       "Lng           579\n",
       "Max Temp      579\n",
       "Humidity      579\n",
       "Cloudiness    579\n",
       "Wind Speed    579\n",
       "Country       579\n",
       "Date          579\n",
       "dtype: int64"
      ]
     },
     "execution_count": 4,
     "metadata": {},
     "output_type": "execute_result"
    }
   ],
   "source": [
    "city_data = pd.DataFrame({\"City\":city_update,\n",
    "                         \"Lat\":lat_update,\n",
    "                         \"Lng\":lng_update, \n",
    "                         \"Max Temp\": max_temp,\n",
    "                         \"Humidity\": humidity,\n",
    "                         \"Cloudiness\":cloudiness, \n",
    "                         \"Wind Speed\":wind_speed,\n",
    "                         \"Country\": country,\n",
    "                         \"Date\":date})\n",
    "city_data.count()"
   ]
  },
  {
   "cell_type": "code",
   "execution_count": 5,
   "metadata": {},
   "outputs": [
    {
     "data": {
      "text/html": [
       "<div>\n",
       "<style scoped>\n",
       "    .dataframe tbody tr th:only-of-type {\n",
       "        vertical-align: middle;\n",
       "    }\n",
       "\n",
       "    .dataframe tbody tr th {\n",
       "        vertical-align: top;\n",
       "    }\n",
       "\n",
       "    .dataframe thead th {\n",
       "        text-align: right;\n",
       "    }\n",
       "</style>\n",
       "<table border=\"1\" class=\"dataframe\">\n",
       "  <thead>\n",
       "    <tr style=\"text-align: right;\">\n",
       "      <th></th>\n",
       "      <th>City</th>\n",
       "      <th>Lat</th>\n",
       "      <th>Lng</th>\n",
       "      <th>Max Temp</th>\n",
       "      <th>Humidity</th>\n",
       "      <th>Cloudiness</th>\n",
       "      <th>Wind Speed</th>\n",
       "      <th>Country</th>\n",
       "      <th>Date</th>\n",
       "    </tr>\n",
       "  </thead>\n",
       "  <tbody>\n",
       "    <tr>\n",
       "      <th>0</th>\n",
       "      <td>puerto ayora</td>\n",
       "      <td>-0.74</td>\n",
       "      <td>-90.35</td>\n",
       "      <td>80.60</td>\n",
       "      <td>61</td>\n",
       "      <td>20</td>\n",
       "      <td>16.11</td>\n",
       "      <td>EC</td>\n",
       "      <td>1592856963</td>\n",
       "    </tr>\n",
       "    <tr>\n",
       "      <th>1</th>\n",
       "      <td>butaritari</td>\n",
       "      <td>3.07</td>\n",
       "      <td>172.79</td>\n",
       "      <td>82.81</td>\n",
       "      <td>76</td>\n",
       "      <td>27</td>\n",
       "      <td>12.93</td>\n",
       "      <td>KI</td>\n",
       "      <td>1592856964</td>\n",
       "    </tr>\n",
       "    <tr>\n",
       "      <th>2</th>\n",
       "      <td>arraial do cabo</td>\n",
       "      <td>-22.97</td>\n",
       "      <td>-42.03</td>\n",
       "      <td>86.00</td>\n",
       "      <td>78</td>\n",
       "      <td>0</td>\n",
       "      <td>6.93</td>\n",
       "      <td>BR</td>\n",
       "      <td>1592856964</td>\n",
       "    </tr>\n",
       "    <tr>\n",
       "      <th>3</th>\n",
       "      <td>mar del plata</td>\n",
       "      <td>-38.00</td>\n",
       "      <td>-57.56</td>\n",
       "      <td>53.01</td>\n",
       "      <td>87</td>\n",
       "      <td>100</td>\n",
       "      <td>6.93</td>\n",
       "      <td>AR</td>\n",
       "      <td>1592856866</td>\n",
       "    </tr>\n",
       "    <tr>\n",
       "      <th>4</th>\n",
       "      <td>bluff</td>\n",
       "      <td>-46.60</td>\n",
       "      <td>168.33</td>\n",
       "      <td>39.00</td>\n",
       "      <td>83</td>\n",
       "      <td>1</td>\n",
       "      <td>3.00</td>\n",
       "      <td>NZ</td>\n",
       "      <td>1592856964</td>\n",
       "    </tr>\n",
       "  </tbody>\n",
       "</table>\n",
       "</div>"
      ],
      "text/plain": [
       "              City    Lat     Lng  Max Temp  Humidity  Cloudiness  Wind Speed  \\\n",
       "0     puerto ayora  -0.74  -90.35     80.60        61          20       16.11   \n",
       "1       butaritari   3.07  172.79     82.81        76          27       12.93   \n",
       "2  arraial do cabo -22.97  -42.03     86.00        78           0        6.93   \n",
       "3    mar del plata -38.00  -57.56     53.01        87         100        6.93   \n",
       "4            bluff -46.60  168.33     39.00        83           1        3.00   \n",
       "\n",
       "  Country        Date  \n",
       "0      EC  1592856963  \n",
       "1      KI  1592856964  \n",
       "2      BR  1592856964  \n",
       "3      AR  1592856866  \n",
       "4      NZ  1592856964  "
      ]
     },
     "execution_count": 5,
     "metadata": {},
     "output_type": "execute_result"
    }
   ],
   "source": [
    "city_data.head()"
   ]
  },
  {
   "cell_type": "markdown",
   "metadata": {},
   "source": [
    "## Inspect the data and remove the cities where the humidity > 100%.\n",
    "----\n",
    "Skip this step if there are no cities that have humidity > 100%. "
   ]
  },
  {
   "cell_type": "code",
   "execution_count": 6,
   "metadata": {},
   "outputs": [
    {
     "data": {
      "text/html": [
       "<div>\n",
       "<style scoped>\n",
       "    .dataframe tbody tr th:only-of-type {\n",
       "        vertical-align: middle;\n",
       "    }\n",
       "\n",
       "    .dataframe tbody tr th {\n",
       "        vertical-align: top;\n",
       "    }\n",
       "\n",
       "    .dataframe thead th {\n",
       "        text-align: right;\n",
       "    }\n",
       "</style>\n",
       "<table border=\"1\" class=\"dataframe\">\n",
       "  <thead>\n",
       "    <tr style=\"text-align: right;\">\n",
       "      <th></th>\n",
       "      <th>Lat</th>\n",
       "      <th>Lng</th>\n",
       "      <th>Max Temp</th>\n",
       "      <th>Humidity</th>\n",
       "      <th>Cloudiness</th>\n",
       "      <th>Wind Speed</th>\n",
       "      <th>Date</th>\n",
       "    </tr>\n",
       "  </thead>\n",
       "  <tbody>\n",
       "    <tr>\n",
       "      <th>count</th>\n",
       "      <td>579.000000</td>\n",
       "      <td>579.000000</td>\n",
       "      <td>579.000000</td>\n",
       "      <td>579.000000</td>\n",
       "      <td>579.000000</td>\n",
       "      <td>579.000000</td>\n",
       "      <td>5.790000e+02</td>\n",
       "    </tr>\n",
       "    <tr>\n",
       "      <th>mean</th>\n",
       "      <td>21.180881</td>\n",
       "      <td>19.426615</td>\n",
       "      <td>68.671347</td>\n",
       "      <td>70.089810</td>\n",
       "      <td>43.459413</td>\n",
       "      <td>7.789655</td>\n",
       "      <td>1.592857e+09</td>\n",
       "    </tr>\n",
       "    <tr>\n",
       "      <th>std</th>\n",
       "      <td>33.733584</td>\n",
       "      <td>89.279025</td>\n",
       "      <td>14.966124</td>\n",
       "      <td>20.646025</td>\n",
       "      <td>39.013612</td>\n",
       "      <td>5.247300</td>\n",
       "      <td>5.487601e+01</td>\n",
       "    </tr>\n",
       "    <tr>\n",
       "      <th>min</th>\n",
       "      <td>-54.800000</td>\n",
       "      <td>-175.200000</td>\n",
       "      <td>31.320000</td>\n",
       "      <td>7.000000</td>\n",
       "      <td>0.000000</td>\n",
       "      <td>0.430000</td>\n",
       "      <td>1.592857e+09</td>\n",
       "    </tr>\n",
       "    <tr>\n",
       "      <th>25%</th>\n",
       "      <td>-6.930000</td>\n",
       "      <td>-59.085000</td>\n",
       "      <td>57.200000</td>\n",
       "      <td>58.000000</td>\n",
       "      <td>1.000000</td>\n",
       "      <td>3.680000</td>\n",
       "      <td>1.592857e+09</td>\n",
       "    </tr>\n",
       "    <tr>\n",
       "      <th>50%</th>\n",
       "      <td>27.900000</td>\n",
       "      <td>23.680000</td>\n",
       "      <td>70.000000</td>\n",
       "      <td>74.000000</td>\n",
       "      <td>40.000000</td>\n",
       "      <td>6.930000</td>\n",
       "      <td>1.592857e+09</td>\n",
       "    </tr>\n",
       "    <tr>\n",
       "      <th>75%</th>\n",
       "      <td>50.040000</td>\n",
       "      <td>100.345000</td>\n",
       "      <td>80.010000</td>\n",
       "      <td>87.000000</td>\n",
       "      <td>82.000000</td>\n",
       "      <td>10.290000</td>\n",
       "      <td>1.592857e+09</td>\n",
       "    </tr>\n",
       "    <tr>\n",
       "      <th>max</th>\n",
       "      <td>78.220000</td>\n",
       "      <td>179.320000</td>\n",
       "      <td>107.600000</td>\n",
       "      <td>100.000000</td>\n",
       "      <td>100.000000</td>\n",
       "      <td>31.380000</td>\n",
       "      <td>1.592857e+09</td>\n",
       "    </tr>\n",
       "  </tbody>\n",
       "</table>\n",
       "</div>"
      ],
      "text/plain": [
       "              Lat         Lng    Max Temp    Humidity  Cloudiness  Wind Speed  \\\n",
       "count  579.000000  579.000000  579.000000  579.000000  579.000000  579.000000   \n",
       "mean    21.180881   19.426615   68.671347   70.089810   43.459413    7.789655   \n",
       "std     33.733584   89.279025   14.966124   20.646025   39.013612    5.247300   \n",
       "min    -54.800000 -175.200000   31.320000    7.000000    0.000000    0.430000   \n",
       "25%     -6.930000  -59.085000   57.200000   58.000000    1.000000    3.680000   \n",
       "50%     27.900000   23.680000   70.000000   74.000000   40.000000    6.930000   \n",
       "75%     50.040000  100.345000   80.010000   87.000000   82.000000   10.290000   \n",
       "max     78.220000  179.320000  107.600000  100.000000  100.000000   31.380000   \n",
       "\n",
       "               Date  \n",
       "count  5.790000e+02  \n",
       "mean   1.592857e+09  \n",
       "std    5.487601e+01  \n",
       "min    1.592857e+09  \n",
       "25%    1.592857e+09  \n",
       "50%    1.592857e+09  \n",
       "75%    1.592857e+09  \n",
       "max    1.592857e+09  "
      ]
     },
     "execution_count": 6,
     "metadata": {},
     "output_type": "execute_result"
    }
   ],
   "source": [
    "city_data.describe()"
   ]
  },
  {
   "cell_type": "code",
   "execution_count": 7,
   "metadata": {},
   "outputs": [],
   "source": [
    "# Export the City_Data into a csv\n",
    "city_data.to_csv(\"output_data/cities.csv\")"
   ]
  },
  {
   "cell_type": "markdown",
   "metadata": {},
   "source": [
    "## Plotting the Data\n",
    "* Use proper labeling of the plots using plot titles (including date of analysis) and axes labels.\n",
    "* Save the plotted figures as .pngs."
   ]
  },
  {
   "cell_type": "markdown",
   "metadata": {},
   "source": [
    "## Latitude vs. Temperature Plot"
   ]
  },
  {
   "cell_type": "code",
   "execution_count": 8,
   "metadata": {
    "scrolled": true
   },
   "outputs": [
    {
     "data": {
      "image/png": "[encoded data removed]",
      "text/plain": [
       "<Figure size 432x288 with 1 Axes>"
      ]
     },
     "metadata": {
      "needs_background": "light"
     },
     "output_type": "display_data"
    }
   ],
   "source": [
    "plt.scatter(city_data[\"Lat\"],city_data[\"Max Temp\"],facecolors=\"green\", edgecolors=\"black\")\n",
    "plt.xlabel('Latitude')\n",
    "plt.ylabel('Max Temperature (F)')\n",
    "plt.title('City Latitude vs. Max Temperature (06/21/2020)')\n",
    "plt.grid()\n",
    "plt.savefig(\"output_data/Latitude_Temperature.png\")\n",
    "plt.show()\n"
   ]
  },
  {
   "cell_type": "markdown",
   "metadata": {},
   "source": [
    "1. Cities near the equator (with latitude around zero) have higher max temperature than cities distributed in the northern and southern hemisphere."
   ]
  },
  {
   "cell_type": "markdown",
   "metadata": {},
   "source": [
    "## Latitude vs. Humidity Plot"
   ]
  },
  {
   "cell_type": "code",
   "execution_count": 9,
   "metadata": {},
   "outputs": [
    {
     "data": {
      "image/png": "[encoded data removed]",
      "text/plain": [
       "<Figure size 432x288 with 1 Axes>"
      ]
     },
     "metadata": {
      "needs_background": "light"
     },
     "output_type": "display_data"
    }
   ],
   "source": [
    "plt.scatter(city_data[\"Lat\"],city_data[\"Humidity\"],facecolors=\"green\", edgecolors=\"black\")\n",
    "plt.xlabel('Latitude')\n",
    "plt.ylabel('Huminity (%)')\n",
    "plt.title('City Latitude vs. Max Humidity(06/21/2020)')\n",
    "plt.grid()\n",
    "plt.savefig(\"output_data/Latitude_Humidity.png\")\n",
    "plt.show()"
   ]
  },
  {
   "cell_type": "markdown",
   "metadata": {},
   "source": [
    "1. The max humidity of a city does not have dirrect connection with its latitude."
   ]
  },
  {
   "cell_type": "markdown",
   "metadata": {},
   "source": [
    "## Latitude vs. Cloudiness Plot"
   ]
  },
  {
   "cell_type": "code",
   "execution_count": 10,
   "metadata": {},
   "outputs": [
    {
     "data": {
      "image/png": "[encoded data removed]",
      "text/plain": [
       "<Figure size 432x288 with 1 Axes>"
      ]
     },
     "metadata": {
      "needs_background": "light"
     },
     "output_type": "display_data"
    }
   ],
   "source": [
    "plt.scatter(city_data[\"Lat\"],city_data[\"Cloudiness\"],facecolors=\"green\", edgecolors=\"black\")\n",
    "plt.xlabel('Latitude')\n",
    "plt.ylabel('Cloudiness (%)')\n",
    "plt.title('City Latitude vs. Cloudiness(06/21/2020)')\n",
    "plt.grid()\n",
    "plt.savefig(\"output_data/Latitude_Cloudiness.png\")\n",
    "plt.show()"
   ]
  },
  {
   "cell_type": "markdown",
   "metadata": {},
   "source": [
    "1. The cloudiness of a city does not have direct connection with its latitude."
   ]
  },
  {
   "cell_type": "markdown",
   "metadata": {},
   "source": [
    "## Latitude vs. Wind Speed Plot"
   ]
  },
  {
   "cell_type": "code",
   "execution_count": 11,
   "metadata": {},
   "outputs": [
    {
     "data": {
      "image/png": "[encoded data removed]",
      "text/plain": [
       "<Figure size 432x288 with 1 Axes>"
      ]
     },
     "metadata": {
      "needs_background": "light"
     },
     "output_type": "display_data"
    }
   ],
   "source": [
    "plt.scatter(city_data[\"Lat\"],city_data[\"Wind Speed\"],facecolors=\"green\", edgecolors=\"black\")\n",
    "plt.xlabel('Latitude')\n",
    "plt.ylabel('Wind Speed (mph)')\n",
    "plt.title('City Latitude vs. Wind Speed(04/01/2020)')\n",
    "plt.grid()\n",
    "plt.savefig(\"output_data/Latitude_Wind Speed.png\")\n",
    "plt.show()"
   ]
  },
  {
   "cell_type": "markdown",
   "metadata": {},
   "source": [
    "1. The wind speed of a city does not have direct connection with its latitude."
   ]
  },
  {
   "cell_type": "markdown",
   "metadata": {},
   "source": [
    "## Linear Regression"
   ]
  },
  {
   "cell_type": "code",
   "execution_count": 12,
   "metadata": {},
   "outputs": [],
   "source": [
    "# OPTIONAL: Create a function to create Linear Regression plots\n",
    "\n",
    "def linear_regression(x_values, y_values,x_label,y_label,position):\n",
    "    (slope, intercept, rvalue, pvalue, stderr) = linregress(x_values, y_values)\n",
    "    regress_values = x_values * slope + intercept\n",
    "    line_eq = \"y = \" + str(round(slope,2)) + \"x + \" + str(round(intercept,2))\n",
    "    plt.scatter(x_values,y_values)\n",
    "    plt.plot(x_values,regress_values,\"r-\")\n",
    "    plt.annotate(line_eq,position,fontsize=15,color=\"red\")\n",
    "    plt.xlabel(x_label)\n",
    "    plt.ylabel(y_label)\n",
    "    print(f\"The r-squared is: {rvalue**2}\")\n",
    "    plt.show()\n",
    "      "
   ]
  },
  {
   "cell_type": "code",
   "execution_count": 13,
   "metadata": {},
   "outputs": [
    {
     "data": {
      "text/html": [
       "<div>\n",
       "<style scoped>\n",
       "    .dataframe tbody tr th:only-of-type {\n",
       "        vertical-align: middle;\n",
       "    }\n",
       "\n",
       "    .dataframe tbody tr th {\n",
       "        vertical-align: top;\n",
       "    }\n",
       "\n",
       "    .dataframe thead th {\n",
       "        text-align: right;\n",
       "    }\n",
       "</style>\n",
       "<table border=\"1\" class=\"dataframe\">\n",
       "  <thead>\n",
       "    <tr style=\"text-align: right;\">\n",
       "      <th></th>\n",
       "      <th>City</th>\n",
       "      <th>Lat</th>\n",
       "      <th>Lng</th>\n",
       "      <th>Max Temp</th>\n",
       "      <th>Humidity</th>\n",
       "      <th>Cloudiness</th>\n",
       "      <th>Wind Speed</th>\n",
       "      <th>Country</th>\n",
       "      <th>Date</th>\n",
       "    </tr>\n",
       "  </thead>\n",
       "  <tbody>\n",
       "    <tr>\n",
       "      <th>1</th>\n",
       "      <td>butaritari</td>\n",
       "      <td>3.07</td>\n",
       "      <td>172.79</td>\n",
       "      <td>82.81</td>\n",
       "      <td>76</td>\n",
       "      <td>27</td>\n",
       "      <td>12.93</td>\n",
       "      <td>KI</td>\n",
       "      <td>1592856964</td>\n",
       "    </tr>\n",
       "    <tr>\n",
       "      <th>6</th>\n",
       "      <td>san patricio</td>\n",
       "      <td>19.22</td>\n",
       "      <td>-104.70</td>\n",
       "      <td>89.60</td>\n",
       "      <td>59</td>\n",
       "      <td>20</td>\n",
       "      <td>13.87</td>\n",
       "      <td>MX</td>\n",
       "      <td>1592856964</td>\n",
       "    </tr>\n",
       "    <tr>\n",
       "      <th>8</th>\n",
       "      <td>svetlogorsk</td>\n",
       "      <td>52.63</td>\n",
       "      <td>29.73</td>\n",
       "      <td>64.53</td>\n",
       "      <td>96</td>\n",
       "      <td>100</td>\n",
       "      <td>5.21</td>\n",
       "      <td>BY</td>\n",
       "      <td>1592856964</td>\n",
       "    </tr>\n",
       "    <tr>\n",
       "      <th>10</th>\n",
       "      <td>tiznit</td>\n",
       "      <td>29.58</td>\n",
       "      <td>-9.50</td>\n",
       "      <td>71.02</td>\n",
       "      <td>68</td>\n",
       "      <td>1</td>\n",
       "      <td>4.90</td>\n",
       "      <td>MA</td>\n",
       "      <td>1592856964</td>\n",
       "    </tr>\n",
       "    <tr>\n",
       "      <th>13</th>\n",
       "      <td>sao filipe</td>\n",
       "      <td>14.90</td>\n",
       "      <td>-24.50</td>\n",
       "      <td>79.79</td>\n",
       "      <td>68</td>\n",
       "      <td>1</td>\n",
       "      <td>15.43</td>\n",
       "      <td>CV</td>\n",
       "      <td>1592856965</td>\n",
       "    </tr>\n",
       "  </tbody>\n",
       "</table>\n",
       "</div>"
      ],
      "text/plain": [
       "            City    Lat     Lng  Max Temp  Humidity  Cloudiness  Wind Speed  \\\n",
       "1     butaritari   3.07  172.79     82.81        76          27       12.93   \n",
       "6   san patricio  19.22 -104.70     89.60        59          20       13.87   \n",
       "8    svetlogorsk  52.63   29.73     64.53        96         100        5.21   \n",
       "10        tiznit  29.58   -9.50     71.02        68           1        4.90   \n",
       "13    sao filipe  14.90  -24.50     79.79        68           1       15.43   \n",
       "\n",
       "   Country        Date  \n",
       "1       KI  1592856964  \n",
       "6       MX  1592856964  \n",
       "8       BY  1592856964  \n",
       "10      MA  1592856964  \n",
       "13      CV  1592856965  "
      ]
     },
     "execution_count": 13,
     "metadata": {},
     "output_type": "execute_result"
    }
   ],
   "source": [
    "# Create Northern and Southern Hemisphere DataFrames\n",
    "northern_city_data = city_data.loc[city_data['Lat'].astype('float')>=0]\n",
    "souther_city_data = city_data.loc[city_data['Lat'].astype('float')<0]\n",
    "northern_city_data.head()"
   ]
  },
  {
   "cell_type": "markdown",
   "metadata": {},
   "source": [
    "####  Northern Hemisphere - Max Temp vs. Latitude Linear Regression"
   ]
  },
  {
   "cell_type": "code",
   "execution_count": 14,
   "metadata": {},
   "outputs": [
    {
     "name": "stdout",
     "output_type": "stream",
     "text": [
      "The r-squared is: 0.5027788237461859\n"
     ]
    },
    {
     "data": {
      "image/png": "[encoded data removed]",
      "text/plain": [
       "<Figure size 432x288 with 1 Axes>"
      ]
     },
     "metadata": {
      "needs_background": "light"
     },
     "output_type": "display_data"
    }
   ],
   "source": [
    "linear_regression(northern_city_data['Lat'], northern_city_data['Max Temp'] ,\"Latitude\",\"Max Temp\",(40,80))"
   ]
  },
  {
   "cell_type": "markdown",
   "metadata": {},
   "source": [
    "1. In northern hemisphere, as the cities go from equator to the north pole, their max temperature goes down."
   ]
  },
  {
   "cell_type": "markdown",
   "metadata": {},
   "source": [
    "####  Southern Hemisphere - Max Temp vs. Latitude Linear Regression"
   ]
  },
  {
   "cell_type": "code",
   "execution_count": 15,
   "metadata": {},
   "outputs": [
    {
     "name": "stdout",
     "output_type": "stream",
     "text": [
      "The r-squared is: 0.6089411023788727\n"
     ]
    },
    {
     "data": {
      "image/png": "[encoded data removed]",
      "text/plain": [
       "<Figure size 432x288 with 1 Axes>"
      ]
     },
     "metadata": {
      "needs_background": "light"
     },
     "output_type": "display_data"
    }
   ],
   "source": [
    "linear_regression(souther_city_data['Lat'], souther_city_data['Max Temp'] ,\"Latitude\",\"Max Temp\",(-30,45))"
   ]
  },
  {
   "cell_type": "markdown",
   "metadata": {},
   "source": [
    "1. In southern hemisphere, as the cities go from the south pole to the equator, their max temperature goes up. "
   ]
  },
  {
   "cell_type": "markdown",
   "metadata": {},
   "source": [
    "####  Northern Hemisphere - Humidity (%) vs. Latitude Linear Regression"
   ]
  },
  {
   "cell_type": "code",
   "execution_count": 16,
   "metadata": {},
   "outputs": [
    {
     "name": "stdout",
     "output_type": "stream",
     "text": [
      "The r-squared is: 0.0036384410440995474\n"
     ]
    },
    {
     "data": {
      "image/png": "[encoded data removed]",
      "text/plain": [
       "<Figure size 432x288 with 1 Axes>"
      ]
     },
     "metadata": {
      "needs_background": "light"
     },
     "output_type": "display_data"
    }
   ],
   "source": [
    "linear_regression(northern_city_data['Lat'], northern_city_data['Humidity'] ,\"Latitude\",\"Humidity\",(40,80))"
   ]
  },
  {
   "cell_type": "markdown",
   "metadata": {},
   "source": [
    "1. There is almost no correlation between humidity and latitude for cities in northern hemisphere."
   ]
  },
  {
   "cell_type": "markdown",
   "metadata": {},
   "source": [
    "####  Southern Hemisphere - Humidity (%) vs. Latitude Linear Regression"
   ]
  },
  {
   "cell_type": "code",
   "execution_count": 17,
   "metadata": {},
   "outputs": [
    {
     "name": "stdout",
     "output_type": "stream",
     "text": [
      "The r-squared is: 0.046117285362463546\n"
     ]
    },
    {
     "data": {
      "image/png": "[encoded data removed]",
      "text/plain": [
       "<Figure size 432x288 with 1 Axes>"
      ]
     },
     "metadata": {
      "needs_background": "light"
     },
     "output_type": "display_data"
    }
   ],
   "source": [
    "linear_regression(souther_city_data['Lat'], souther_city_data['Humidity'] ,\"Latitude\",\"Humidity\",(-30,80))"
   ]
  },
  {
   "cell_type": "markdown",
   "metadata": {},
   "source": [
    "1. There is a weak correlation between humidity and latitude for cities in souther hemisphere: as cities go from south pole to the equator, their humidity decreased slightly.\n",
    "2. This is a relative weak correlation from the limited number of cities. As we choose more cities to investigate, the correlation may not exist any more."
   ]
  },
  {
   "cell_type": "markdown",
   "metadata": {},
   "source": [
    "####  Northern Hemisphere - Cloudiness (%) vs. Latitude Linear Regression"
   ]
  },
  {
   "cell_type": "code",
   "execution_count": 18,
   "metadata": {},
   "outputs": [
    {
     "name": "stdout",
     "output_type": "stream",
     "text": [
      "The r-squared is: 0.009231882045261423\n"
     ]
    },
    {
     "data": {
      "image/png": "[encoded data removed]",
      "text/plain": [
       "<Figure size 432x288 with 1 Axes>"
      ]
     },
     "metadata": {
      "needs_background": "light"
     },
     "output_type": "display_data"
    }
   ],
   "source": [
    "linear_regression(northern_city_data['Lat'], northern_city_data['Cloudiness'] ,\"Latitude\",\"Cloudiness\",(40,60))"
   ]
  },
  {
   "cell_type": "markdown",
   "metadata": {},
   "source": [
    "1. There is almost no correlation between cloudiness and latitude for cities in the northern hemisphere."
   ]
  },
  {
   "cell_type": "markdown",
   "metadata": {},
   "source": [
    "####  Southern Hemisphere - Cloudiness (%) vs. Latitude Linear Regression"
   ]
  },
  {
   "cell_type": "code",
   "execution_count": 19,
   "metadata": {},
   "outputs": [
    {
     "name": "stdout",
     "output_type": "stream",
     "text": [
      "The r-squared is: 0.00419726688220478\n"
     ]
    },
    {
     "data": {
      "image/png": "[encoded data removed]",
      "text/plain": [
       "<Figure size 432x288 with 1 Axes>"
      ]
     },
     "metadata": {
      "needs_background": "light"
     },
     "output_type": "display_data"
    }
   ],
   "source": [
    "linear_regression(souther_city_data['Lat'], souther_city_data['Cloudiness'] ,\"Latitude\",\"Cloudiness\",(-30,40))"
   ]
  },
  {
   "cell_type": "markdown",
   "metadata": {},
   "source": [
    "1. There is almost no correlation between cloudiness and latitude for cities in the southern hemisphere."
   ]
  },
  {
   "cell_type": "markdown",
   "metadata": {},
   "source": [
    "####  Northern Hemisphere - Wind Speed (mph) vs. Latitude Linear Regression"
   ]
  },
  {
   "cell_type": "code",
   "execution_count": 20,
   "metadata": {},
   "outputs": [
    {
     "name": "stdout",
     "output_type": "stream",
     "text": [
      "The r-squared is: 0.0022340657012817153\n"
     ]
    },
    {
     "data": {
      "image/png": "[encoded data removed]",
      "text/plain": [
       "<Figure size 432x288 with 1 Axes>"
      ]
     },
     "metadata": {
      "needs_background": "light"
     },
     "output_type": "display_data"
    }
   ],
   "source": [
    "linear_regression(northern_city_data['Lat'], northern_city_data['Wind Speed'] ,\"Latitude\",\"Wind Speed\",(40,10))"
   ]
  },
  {
   "cell_type": "markdown",
   "metadata": {},
   "source": [
    "1. There is almost no correlation between wind speed and latitude for cities in the northern hemisphere."
   ]
  },
  {
   "cell_type": "markdown",
   "metadata": {},
   "source": [
    "####  Southern Hemisphere - Wind Speed (mph) vs. Latitude Linear Regression"
   ]
  },
  {
   "cell_type": "code",
   "execution_count": 21,
   "metadata": {
    "scrolled": true
   },
   "outputs": [
    {
     "name": "stdout",
     "output_type": "stream",
     "text": [
      "The r-squared is: 0.008124660376827325\n"
     ]
    },
    {
     "data": {
      "image/png": "[encoded data removed]",
      "text/plain": [
       "<Figure size 432x288 with 1 Axes>"
      ]
     },
     "metadata": {
      "needs_background": "light"
     },
     "output_type": "display_data"
    }
   ],
   "source": [
    "linear_regression(souther_city_data['Lat'], souther_city_data['Wind Speed'] ,\"Latitude\",\"Wind Speed\",(-30,10))"
   ]
  },
  {
   "cell_type": "markdown",
   "metadata": {},
   "source": [
    "1. There is almost no correlation between wind speed and latitude for cities in the southern hemisphere."
   ]
  },
  {
   "cell_type": "code",
   "execution_count": null,
   "metadata": {},
   "outputs": [],
   "source": []
  }
 ],
 "metadata": {
  "anaconda-cloud": {},
  "kernel_info": {
   "name": "python3"
  },
  "kernelspec": {
   "display_name": "Python 3",
   "language": "python",
   "name": "python3"
  },
  "language_info": {
   "codemirror_mode": {
    "name": "ipython",
    "version": 3
   },
   "file_extension": ".py",
   "mimetype": "text/x-python",
   "name": "python",
   "nbconvert_exporter": "python",
   "pygments_lexer": "ipython3",
   "version": "3.7.6"
  },
  "latex_envs": {
   "LaTeX_envs_menu_present": true,
   "autoclose": false,
   "autocomplete": true,
   "bibliofile": "biblio.bib",
   "cite_by": "apalike",
   "current_citInitial": 1,
   "eqLabelWithNumbers": true,
   "eqNumInitial": 1,
   "hotkeys": {
    "equation": "Ctrl-E",
    "itemize": "Ctrl-I"
   },
   "labels_anchors": false,
   "latex_user_defs": false,
   "report_style_numbering": false,
   "user_envs_cfg": false
  },
  "nteract": {
   "version": "0.12.3"
  }
 },
 "nbformat": 4,
 "nbformat_minor": 2
}
